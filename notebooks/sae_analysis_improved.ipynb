{
 "cells": [
  {
   "cell_type": "code",
   "execution_count": 3,
   "metadata": {},
   "outputs": [
    {
     "name": "stdout",
     "output_type": "stream",
     "text": [
      "Project root: /Users/krizroycetahimic/Documents/Thesis/Code/pva_sae\n",
      "Current working directory: /Users/krizroycetahimic/Documents/Thesis/Code/pva_sae/notebooks\n",
      "✓ All imports successful\n"
     ]
    }
   ],
   "source": [
    "# Import required libraries\n",
    "import torch\n",
    "import pandas as pd\n",
    "import numpy as np\n",
    "import matplotlib.pyplot as plt\n",
    "from transformer_lens import HookedTransformer\n",
    "from transformers import AutoTokenizer\n",
    "import logging\n",
    "from pathlib import Path\n",
    "import sys\n",
    "import os\n",
    "\n",
    "# Add project root to Python path\n",
    "project_root = Path.cwd().parent if Path.cwd().name == 'notebooks' else Path.cwd()\n",
    "if str(project_root) not in sys.path:\n",
    "    sys.path.append(str(project_root))\n",
    "\n",
    "print(f\"Project root: {project_root}\")\n",
    "print(f\"Current working directory: {Path.cwd()}\")\n",
    "\n",
    "# Configure logging\n",
    "logging.basicConfig(level=logging.INFO)\n",
    "logger = logging.getLogger(__name__)\n",
    "\n",
    "# Import our improved modules\n",
    "try:\n",
    "    from phase2_sae_analysis.activation_extractor import ImprovedActivationExtractor\n",
    "    from phase2_sae_analysis.steering_hooks import ModelSteerer\n",
    "    from phase2_sae_analysis.sae_analyzer import load_gemma_scope_sae, compute_separation_scores\n",
    "    from phase2_sae_analysis.prompt_utils import build_prompt_template\n",
    "    from phase2_sae_analysis.visualization import plot_separation_scores, summarize_pva_directions\n",
    "    print(\"✓ All imports successful\")\n",
    "except ImportError as e:\n",
    "    print(f\"❌ Import error: {e}\")\n",
    "    print(\"Available files in phase2_sae_analysis:\")\n",
    "    phase2_path = project_root / \"phase2_sae_analysis\"\n",
    "    if phase2_path.exists():\n",
    "        for file in phase2_path.glob(\"*.py\"):\n",
    "            print(f\"  - {file.name}\")\n",
    "    else:\n",
    "        print(f\"  Directory not found: {phase2_path}\")\n",
    "    raise"
   ]
  },
  {
   "cell_type": "code",
   "execution_count": 4,
   "metadata": {},
   "outputs": [
    {
     "name": "stdout",
     "output_type": "stream",
     "text": [
      "✓ All imports successful\n"
     ]
    }
   ],
   "source": [
    "# Import required libraries\n",
    "import torch\n",
    "import pandas as pd\n",
    "import numpy as np\n",
    "import matplotlib.pyplot as plt\n",
    "from transformer_lens import HookedTransformer\n",
    "from transformers import AutoTokenizer\n",
    "import logging\n",
    "from pathlib import Path\n",
    "\n",
    "# Configure logging\n",
    "logging.basicConfig(level=logging.INFO)\n",
    "logger = logging.getLogger(__name__)\n",
    "\n",
    "# Import our improved modules\n",
    "from phase2_sae_analysis.activation_extractor import ImprovedActivationExtractor\n",
    "from phase2_sae_analysis.steering_hooks import ModelSteerer\n",
    "from phase2_sae_analysis.sae_analyzer import load_gemma_scope_sae, compute_separation_scores\n",
    "from phase2_sae_analysis.prompt_utils import build_prompt_template\n",
    "from phase2_sae_analysis.visualization import plot_separation_scores, summarize_pva_directions\n",
    "\n",
    "print(\"✓ All imports successful\")"
   ]
  },
  {
   "cell_type": "markdown",
   "metadata": {},
   "source": [
    "## 1. Model and Data Setup"
   ]
  },
  {
   "cell_type": "code",
   "execution_count": 5,
   "metadata": {},
   "outputs": [
    {
     "name": "stdout",
     "output_type": "stream",
     "text": [
      "Model: google/gemma-2-2b\n",
      "SAE Layer: 20\n",
      "SAE Config: {'repo_id': 'google/gemma-scope-2b-pt-res', 'sae_id': 'layer_20/width_16k/average_l0_71'}\n",
      "Device: mps\n"
     ]
    }
   ],
   "source": [
    "# Configuration\n",
    "MODEL_NAME = \"google/gemma-2-2b\"\n",
    "SAE_LAYER = 20\n",
    "SAE_CONFIG = {\n",
    "    \"repo_id\": \"google/gemma-scope-2b-pt-res\",\n",
    "    \"sae_id\": f\"layer_{SAE_LAYER}/width_16k/average_l0_71\",\n",
    "}\n",
    "DEVICE = \"mps\"  # or \"cuda\" or \"cpu\"\n",
    "\n",
    "print(f\"Model: {MODEL_NAME}\")\n",
    "print(f\"SAE Layer: {SAE_LAYER}\")\n",
    "print(f\"SAE Config: {SAE_CONFIG}\")\n",
    "print(f\"Device: {DEVICE}\")"
   ]
  },
  {
   "cell_type": "code",
   "execution_count": 6,
   "metadata": {},
   "outputs": [
    {
     "name": "stderr",
     "output_type": "stream",
     "text": [
      "WARNING:root:You tried to specify center_unembed=True for a model using logit softcap, but this can't be done! Softcapping is not invariant upon adding a constant Setting center_unembed=False instead.\n"
     ]
    },
    {
     "name": "stdout",
     "output_type": "stream",
     "text": [
      "Loading model and tokenizer...\n"
     ]
    },
    {
     "name": "stderr",
     "output_type": "stream",
     "text": [
      "Loading checkpoint shards: 100%|██████████| 3/3 [00:00<00:00, 31.96it/s]\n",
      "WARNING:root:You are not using LayerNorm, so the writing weights can't be centered! Skipping\n"
     ]
    },
    {
     "name": "stdout",
     "output_type": "stream",
     "text": [
      "Loaded pretrained model google/gemma-2-2b into HookedTransformer\n",
      "✓ Model loaded: gemma-2-2b\n",
      "  - Layers: 26\n",
      "  - Hidden dimension: 2304\n",
      "  - Device: mps\n"
     ]
    }
   ],
   "source": [
    "# Load model and tokenizer\n",
    "print(\"Loading model and tokenizer...\")\n",
    "\n",
    "model = HookedTransformer.from_pretrained(\n",
    "    MODEL_NAME,\n",
    "    device=DEVICE,\n",
    "    dtype=torch.float32\n",
    ")\n",
    "\n",
    "tokenizer = AutoTokenizer.from_pretrained(MODEL_NAME)\n",
    "if tokenizer.pad_token is None:\n",
    "    tokenizer.pad_token = tokenizer.eos_token\n",
    "\n",
    "print(f\"✓ Model loaded: {model.cfg.model_name}\")\n",
    "print(f\"  - Layers: {model.cfg.n_layers}\")\n",
    "print(f\"  - Hidden dimension: {model.cfg.d_model}\")\n",
    "print(f\"  - Device: {model.cfg.device}\")"
   ]
  },
  {
   "cell_type": "code",
   "execution_count": 7,
   "metadata": {},
   "outputs": [
    {
     "name": "stderr",
     "output_type": "stream",
     "text": [
      "INFO:phase2_sae_analysis.sae_analyzer:Loading SAE from google/gemma-scope-2b-pt-res/layer_20/width_16k/average_l0_71\n"
     ]
    },
    {
     "name": "stdout",
     "output_type": "stream",
     "text": [
      "Loading SAE...\n"
     ]
    },
    {
     "name": "stderr",
     "output_type": "stream",
     "text": [
      "INFO:phase2_sae_analysis.sae_analyzer:Loaded SAE with d_model=2304, d_sae=16384\n"
     ]
    },
    {
     "name": "stdout",
     "output_type": "stream",
     "text": [
      "✓ SAE loaded:\n",
      "  - Input dim: 2304\n",
      "  - SAE dim: 16384\n",
      "  - Device: mps:0\n"
     ]
    }
   ],
   "source": [
    "# Load SAE\n",
    "print(\"Loading SAE...\")\n",
    "\n",
    "sae = load_gemma_scope_sae(\n",
    "    repo_id=SAE_CONFIG[\"repo_id\"],\n",
    "    sae_id=SAE_CONFIG[\"sae_id\"],\n",
    "    device=DEVICE\n",
    ")\n",
    "\n",
    "print(f\"✓ SAE loaded:\")\n",
    "print(f\"  - Input dim: {sae.W_enc.shape[0]}\")\n",
    "print(f\"  - SAE dim: {sae.W_enc.shape[1]}\")\n",
    "print(f\"  - Device: {next(sae.parameters()).device}\")"
   ]
  },
  {
   "cell_type": "code",
   "execution_count": 8,
   "metadata": {},
   "outputs": [
    {
     "name": "stdout",
     "output_type": "stream",
     "text": [
      "Loading test data...\n",
      "✓ Created 5 test prompts\n",
      "  - Correct: 3\n",
      "  - Incorrect: 2\n",
      "  - Sample prompt length: 388 chars\n"
     ]
    }
   ],
   "source": [
    "# Load test data\n",
    "print(\"Loading test data...\")\n",
    "\n",
    "# For this demo, we'll create synthetic MBPP-style problems\n",
    "# In practice, you would load your actual dataset\n",
    "test_problems = [\n",
    "    {\n",
    "        \"description\": \"Write a function to find the minimum cost path to reach (m, n) from (0, 0).\",\n",
    "        \"test_cases\": [\"assert min_cost([[1, 2, 3], [4, 8, 2], [1, 5, 3]], 2, 2) == 8\"],\n",
    "        \"is_correct\": True  # This would come from your test execution\n",
    "    },\n",
    "    {\n",
    "        \"description\": \"Write a function to check if a string contains all unique characters.\",\n",
    "        \"test_cases\": [\"assert is_unique('abcde') == True\", \"assert is_unique('hello') == False\"],\n",
    "        \"is_correct\": False\n",
    "    },\n",
    "    {\n",
    "        \"description\": \"Write a function to reverse words in a string.\",\n",
    "        \"test_cases\": [\"assert reverse_words('hello world') == 'world hello'\"],\n",
    "        \"is_correct\": True\n",
    "    },\n",
    "    {\n",
    "        \"description\": \"Write a function to calculate factorial of a number.\",\n",
    "        \"test_cases\": [\"assert factorial(5) == 120\", \"assert factorial(0) == 1\"],\n",
    "        \"is_correct\": False\n",
    "    },\n",
    "    {\n",
    "        \"description\": \"Write a function to find the longest common prefix.\",\n",
    "        \"test_cases\": [\"assert longest_prefix(['flower', 'flow', 'flight']) == 'fl'\"],\n",
    "        \"is_correct\": True\n",
    "    }\n",
    "]\n",
    "\n",
    "# Create prompts\n",
    "prompts = []\n",
    "labels = []\n",
    "\n",
    "for problem in test_problems:\n",
    "    prompt = build_prompt_template(\n",
    "        problem_description=problem[\"description\"],\n",
    "        test_cases='\\n'.join(problem[\"test_cases\"]),\n",
    "        code_initiator=\"# Your code here:\"\n",
    "    )\n",
    "    prompts.append(prompt)\n",
    "    labels.append(problem[\"is_correct\"])\n",
    "\n",
    "print(f\"✓ Created {len(prompts)} test prompts\")\n",
    "print(f\"  - Correct: {sum(labels)}\")\n",
    "print(f\"  - Incorrect: {len(labels) - sum(labels)}\")\n",
    "print(f\"  - Sample prompt length: {len(prompts[0])} chars\")"
   ]
  },
  {
   "cell_type": "markdown",
   "metadata": {},
   "source": [
    "## 2. Activation Extraction with Improved System"
   ]
  },
  {
   "cell_type": "code",
   "execution_count": 9,
   "metadata": {},
   "outputs": [
    {
     "name": "stderr",
     "output_type": "stream",
     "text": [
      "INFO:phase2_sae_analysis.activation_extractor:Initialized extractor for TransformerLens model\n"
     ]
    },
    {
     "name": "stdout",
     "output_type": "stream",
     "text": [
      "Extractor info:\n",
      "  model_type: TransformerLens\n",
      "  model_name: gemma-2-2b\n",
      "  n_layers: 26\n",
      "  d_model: 2304\n",
      "  device: mps\n"
     ]
    }
   ],
   "source": [
    "# Create improved activation extractor\n",
    "extractor = ImprovedActivationExtractor(model, tokenizer, device=DEVICE)\n",
    "\n",
    "print(\"Extractor info:\")\n",
    "info = extractor.get_model_info()\n",
    "for key, value in info.items():\n",
    "    print(f\"  {key}: {value}\")"
   ]
  },
  {
   "cell_type": "code",
   "execution_count": 10,
   "metadata": {},
   "outputs": [
    {
     "name": "stdout",
     "output_type": "stream",
     "text": [
      "Extracting activations from layer 20...\n"
     ]
    },
    {
     "name": "stderr",
     "output_type": "stream",
     "text": [
      "INFO:phase2_sae_analysis.activation_extractor:Extracted activations shape: torch.Size([5, 2304])\n"
     ]
    },
    {
     "name": "stdout",
     "output_type": "stream",
     "text": [
      "✓ Extracted activations shape: torch.Size([5, 2304])\n",
      "  Expected: [5, 2304]\n",
      "  Statistics: min=-57.246, max=169.013, mean=0.009\n"
     ]
    }
   ],
   "source": [
    "# Extract activations at the last token of each prompt\n",
    "print(f\"Extracting activations from layer {SAE_LAYER}...\")\n",
    "\n",
    "activations = extractor.extract_activations(\n",
    "    prompts=prompts,\n",
    "    layer_idx=SAE_LAYER,\n",
    "    position=-1,  # Last token (before generation)\n",
    "    hook_type=\"resid_pre\"  # Pre-residual stream\n",
    ")\n",
    "\n",
    "print(f\"✓ Extracted activations shape: {activations.shape}\")\n",
    "print(f\"  Expected: [{len(prompts)}, {model.cfg.d_model}]\")\n",
    "print(f\"  Statistics: min={activations.min():.3f}, max={activations.max():.3f}, mean={activations.mean():.3f}\")"
   ]
  },
  {
   "cell_type": "markdown",
   "metadata": {},
   "source": [
    "## 3. SAE Analysis"
   ]
  },
  {
   "cell_type": "code",
   "execution_count": 11,
   "metadata": {},
   "outputs": [
    {
     "name": "stdout",
     "output_type": "stream",
     "text": [
      "Applying SAE encoding...\n",
      "✓ SAE activations shape: torch.Size([5, 16384])\n",
      "  Sparsity: 0.0021\n",
      "  Average L0 norm: 34.6\n",
      "  Max activation: 52.511\n"
     ]
    }
   ],
   "source": [
    "# Apply SAE encoding to get sparse features\n",
    "print(\"Applying SAE encoding...\")\n",
    "\n",
    "with torch.no_grad():\n",
    "    sae_activations = sae.encode(activations)\n",
    "\n",
    "print(f\"✓ SAE activations shape: {sae_activations.shape}\")\n",
    "print(f\"  Sparsity: {(sae_activations > 0).float().mean():.4f}\")\n",
    "print(f\"  Average L0 norm: {(sae_activations > 0).float().sum(dim=-1).mean():.1f}\")\n",
    "print(f\"  Max activation: {sae_activations.max():.3f}\")"
   ]
  },
  {
   "cell_type": "code",
   "execution_count": 12,
   "metadata": {},
   "outputs": [
    {
     "name": "stdout",
     "output_type": "stream",
     "text": [
      "Correct samples: 3\n",
      "Incorrect samples: 2\n"
     ]
    }
   ],
   "source": [
    "# Separate correct and incorrect samples\n",
    "correct_mask = torch.tensor(labels, dtype=torch.bool)\n",
    "incorrect_mask = ~correct_mask\n",
    "\n",
    "correct_sae_acts = sae_activations[correct_mask]\n",
    "incorrect_sae_acts = sae_activations[incorrect_mask]\n",
    "\n",
    "print(f\"Correct samples: {correct_sae_acts.shape[0]}\")\n",
    "print(f\"Incorrect samples: {incorrect_sae_acts.shape[0]}\")\n",
    "\n",
    "# Verify we have both types\n",
    "if correct_sae_acts.shape[0] == 0 or incorrect_sae_acts.shape[0] == 0:\n",
    "    raise ValueError(\"Need both correct and incorrect samples for separation analysis\")"
   ]
  },
  {
   "cell_type": "code",
   "execution_count": 13,
   "metadata": {},
   "outputs": [
    {
     "name": "stdout",
     "output_type": "stream",
     "text": [
      "Computing separation scores...\n",
      "✓ Separation scores computed:\n",
      "  Best correct feature: 10257 (score: 0.667)\n",
      "  Best incorrect feature: 8303 (score: 1.000)\n",
      "\n",
      "Top 5 correct features:\n",
      "  1. Feature 10257: score=0.667 (f_correct=0.667, f_incorrect=0.000)\n",
      "  2. Feature 944: score=0.333 (f_correct=0.333, f_incorrect=0.000)\n",
      "  3. Feature 1732: score=0.333 (f_correct=0.333, f_incorrect=0.000)\n",
      "  4. Feature 2057: score=0.333 (f_correct=0.333, f_incorrect=0.000)\n",
      "  5. Feature 6191: score=0.333 (f_correct=0.333, f_incorrect=0.000)\n",
      "\n",
      "Top 5 incorrect features:\n",
      "  1. Feature 8303: score=1.000 (f_correct=0.000, f_incorrect=1.000)\n",
      "  2. Feature 12534: score=0.667 (f_correct=0.333, f_incorrect=1.000)\n",
      "  3. Feature 1563: score=0.500 (f_correct=0.000, f_incorrect=0.500)\n",
      "  4. Feature 2413: score=0.500 (f_correct=0.000, f_incorrect=0.500)\n",
      "  5. Feature 9569: score=0.500 (f_correct=0.000, f_incorrect=0.500)\n"
     ]
    }
   ],
   "source": [
    "# Compute separation scores\n",
    "print(\"Computing separation scores...\")\n",
    "\n",
    "scores = compute_separation_scores(correct_sae_acts, incorrect_sae_acts)\n",
    "\n",
    "print(f\"✓ Separation scores computed:\")\n",
    "print(f\"  Best correct feature: {scores.best_correct_idx} (score: {scores.s_correct[scores.best_correct_idx]:.3f})\")\n",
    "print(f\"  Best incorrect feature: {scores.best_incorrect_idx} (score: {scores.s_incorrect[scores.best_incorrect_idx]:.3f})\")\n",
    "\n",
    "# Show top features\n",
    "top_correct_scores, top_correct_idx = torch.topk(scores.s_correct, 5)\n",
    "top_incorrect_scores, top_incorrect_idx = torch.topk(scores.s_incorrect, 5)\n",
    "\n",
    "print(\"\\nTop 5 correct features:\")\n",
    "for i, (idx, score) in enumerate(zip(top_correct_idx, top_correct_scores)):\n",
    "    f_corr = scores.f_correct[idx]\n",
    "    f_incorr = scores.f_incorrect[idx]\n",
    "    print(f\"  {i+1}. Feature {idx}: score={score:.3f} (f_correct={f_corr:.3f}, f_incorrect={f_incorr:.3f})\")\n",
    "\n",
    "print(\"\\nTop 5 incorrect features:\")\n",
    "for i, (idx, score) in enumerate(zip(top_incorrect_idx, top_incorrect_scores)):\n",
    "    f_corr = scores.f_correct[idx]\n",
    "    f_incorr = scores.f_incorrect[idx]\n",
    "    print(f\"  {i+1}. Feature {idx}: score={score:.3f} (f_correct={f_corr:.3f}, f_incorrect={f_incorr:.3f})\")"
   ]
  },
  {
   "cell_type": "markdown",
   "metadata": {},
   "source": [
    "## 4. Visualization"
   ]
  },
  {
   "cell_type": "code",
   "execution_count": 14,
   "metadata": {},
   "outputs": [
    {
     "data": {
      "image/png": "[encoded data removed]",
      "text/plain": [
       "<Figure size 1400x600 with 2 Axes>"
      ]
     },
     "metadata": {},
     "output_type": "display_data"
    }
   ],
   "source": [
    "# Plot separation scores\n",
    "plot_separation_scores(scores, top_k=10, figsize=(14, 6))\n",
    "plt.show()"
   ]
  },
  {
   "cell_type": "code",
   "execution_count": 15,
   "metadata": {},
   "outputs": [
    {
     "data": {
      "image/png": "[encoded data removed]",
      "text/plain": [
       "<Figure size 1200x500 with 3 Axes>"
      ]
     },
     "metadata": {},
     "output_type": "display_data"
    }
   ],
   "source": [
    "# Plot distribution of separation scores\n",
    "fig, (ax1, ax2) = plt.subplots(1, 2, figsize=(12, 5))\n",
    "\n",
    "# Histogram of all separation scores\n",
    "ax1.hist(scores.s_correct.cpu().numpy(), bins=50, alpha=0.7, label='Correct direction', color='green')\n",
    "ax1.hist(scores.s_incorrect.cpu().numpy(), bins=50, alpha=0.7, label='Incorrect direction', color='red')\n",
    "ax1.set_xlabel('Separation Score')\n",
    "ax1.set_ylabel('Count')\n",
    "ax1.set_title('Distribution of Separation Scores')\n",
    "ax1.legend()\n",
    "ax1.grid(True, alpha=0.3)\n",
    "\n",
    "# Scatter plot of f_correct vs f_incorrect\n",
    "scatter = ax2.scatter(\n",
    "    scores.f_correct.cpu().numpy(),\n",
    "    scores.f_incorrect.cpu().numpy(),\n",
    "    c=scores.s_correct.cpu().numpy(),\n",
    "    cmap='RdYlBu_r',\n",
    "    alpha=0.6\n",
    ")\n",
    "ax2.plot([0, 1], [0, 1], 'k--', alpha=0.5, label='f_correct = f_incorrect')\n",
    "ax2.set_xlabel('f_correct (Fraction active on correct samples)')\n",
    "ax2.set_ylabel('f_incorrect (Fraction active on incorrect samples)')\n",
    "ax2.set_title('Feature Activation Patterns')\n",
    "ax2.legend()\n",
    "ax2.grid(True, alpha=0.3)\n",
    "plt.colorbar(scatter, ax=ax2, label='Separation Score (s_correct)')\n",
    "\n",
    "plt.tight_layout()\n",
    "plt.show()"
   ]
  },
  {
   "cell_type": "markdown",
   "metadata": {},
   "source": [
    "## 5. PVA Latent Direction Analysis"
   ]
  },
  {
   "cell_type": "code",
   "execution_count": 16,
   "metadata": {},
   "outputs": [
    {
     "name": "stdout",
     "output_type": "stream",
     "text": [
      "Best correct feature: 10257\n",
      "Best incorrect feature: 8303\n",
      "✓ PVA directions extracted:\n",
      "  Correct direction shape: torch.Size([2304])\n",
      "  Incorrect direction shape: torch.Size([2304])\n",
      "  Correct direction norm: 205.899\n",
      "  Incorrect direction norm: 205.914\n"
     ]
    }
   ],
   "source": [
    "# Extract PVA directions in the SAE latent space\n",
    "best_correct_feature = scores.best_correct_idx\n",
    "best_incorrect_feature = scores.best_incorrect_idx\n",
    "\n",
    "print(f\"Best correct feature: {best_correct_feature}\")\n",
    "print(f\"Best incorrect feature: {best_incorrect_feature}\")\n",
    "\n",
    "# Get the decoder directions for these features\n",
    "with torch.no_grad():\n",
    "    # Create one-hot vectors for the best features\n",
    "    correct_latent = torch.zeros(sae.W_dec.shape[0], device=DEVICE)\n",
    "    correct_latent[best_correct_feature] = 1.0\n",
    "    \n",
    "    incorrect_latent = torch.zeros(sae.W_dec.shape[0], device=DEVICE)\n",
    "    incorrect_latent[best_incorrect_feature] = 1.0\n",
    "    \n",
    "    # Get corresponding directions in the residual stream\n",
    "    correct_direction = sae.decode(correct_latent.unsqueeze(0)).squeeze(0)\n",
    "    incorrect_direction = sae.decode(incorrect_latent.unsqueeze(0)).squeeze(0)\n",
    "\n",
    "print(f\"✓ PVA directions extracted:\")\n",
    "print(f\"  Correct direction shape: {correct_direction.shape}\")\n",
    "print(f\"  Incorrect direction shape: {incorrect_direction.shape}\")\n",
    "print(f\"  Correct direction norm: {torch.norm(correct_direction):.3f}\")\n",
    "print(f\"  Incorrect direction norm: {torch.norm(incorrect_direction):.3f}\")"
   ]
  },
  {
   "cell_type": "markdown",
   "metadata": {},
   "source": [
    "## 6. Phase 3 Preview: Steering Experiments"
   ]
  },
  {
   "cell_type": "code",
   "execution_count": 17,
   "metadata": {},
   "outputs": [
    {
     "name": "stderr",
     "output_type": "stream",
     "text": [
      "INFO:phase2_sae_analysis.steering_hooks:Initialized steerer for TransformerLens model\n"
     ]
    },
    {
     "name": "stdout",
     "output_type": "stream",
     "text": [
      "Test prompt: You are an expert Python programmer. Write a Python function to solve the following problem.\n",
      "\n",
      "Proble...\n"
     ]
    }
   ],
   "source": [
    "# Create model steerer\n",
    "steerer = ModelSteerer(model, tokenizer)\n",
    "\n",
    "# Select a test prompt for steering\n",
    "test_prompt = prompts[0]\n",
    "print(f\"Test prompt: {test_prompt[:100]}...\")"
   ]
  },
  {
   "cell_type": "code",
   "execution_count": 18,
   "metadata": {},
   "outputs": [
    {
     "name": "stdout",
     "output_type": "stream",
     "text": [
      "Baseline generation:\n"
     ]
    },
    {
     "name": "stderr",
     "output_type": "stream",
     "text": [
      " 71%|███████   | 71/100 [00:14<00:05,  5.05it/s]\n"
     ]
    },
    {
     "name": "stdout",
     "output_type": "stream",
     "text": [
      "Baseline: \n",
      "def min_cost(grid, m, n):\n",
      "    # Your code here:\n",
      "    return 0\n",
      "\n",
      "# Test code:\n",
      "assert min_cost([[1, 2, 3], [4, 8, 2], [1, 5, 3]], 2, 2) == 8\n",
      "\n",
      "\n"
     ]
    }
   ],
   "source": [
    "# Baseline generation\n",
    "print(\"Baseline generation:\")\n",
    "baseline = steerer.generate_with_steering(\n",
    "    prompts=[test_prompt],\n",
    "    max_new_tokens=100,\n",
    "    do_sample=False\n",
    ")\n",
    "print(f\"Baseline: {baseline[0]}\")\n",
    "print()"
   ]
  },
  {
   "cell_type": "code",
   "execution_count": 19,
   "metadata": {},
   "outputs": [
    {
     "name": "stdout",
     "output_type": "stream",
     "text": [
      "Steering with 'correct' direction:\n"
     ]
    },
    {
     "name": "stderr",
     "output_type": "stream",
     "text": [
      " 71%|███████   | 71/100 [00:11<00:04,  6.09it/s]"
     ]
    },
    {
     "name": "stdout",
     "output_type": "stream",
     "text": [
      "Correct steered: \n",
      "def min_cost(grid, m, n):\n",
      "    # Your code here\n",
      "    return 0\n",
      "\n",
      "# Test code here:\n",
      "assert min_cost([[1, 2, 3], [4, 8, 2], [1, 5, 3]], 2, 2) == 8\n",
      "\n",
      "Different from baseline: True\n",
      "\n"
     ]
    },
    {
     "name": "stderr",
     "output_type": "stream",
     "text": [
      "\n"
     ]
    }
   ],
   "source": [
    "# Steering with \"correct\" direction\n",
    "print(\"Steering with 'correct' direction:\")\n",
    "correct_steered = steerer.generate_with_steering(\n",
    "    prompts=[test_prompt],\n",
    "    steering_vectors=[(SAE_LAYER, correct_direction, 2.0)],  # Layer, direction, coefficient\n",
    "    max_new_tokens=100,\n",
    "    do_sample=False\n",
    ")\n",
    "print(f\"Correct steered: {correct_steered[0]}\")\n",
    "print(f\"Different from baseline: {correct_steered[0] != baseline[0]}\")\n",
    "print()"
   ]
  },
  {
   "cell_type": "code",
   "execution_count": 20,
   "metadata": {},
   "outputs": [
    {
     "name": "stdout",
     "output_type": "stream",
     "text": [
      "Steering with 'incorrect' direction:\n"
     ]
    },
    {
     "name": "stderr",
     "output_type": "stream",
     "text": [
      " 71%|███████   | 71/100 [00:11<00:04,  6.05it/s]"
     ]
    },
    {
     "name": "stdout",
     "output_type": "stream",
     "text": [
      "Incorrect steered: \n",
      "def min_cost(grid, m, n):\n",
      "    # Your code here\n",
      "    return 0\n",
      "\n",
      "# Test code here:\n",
      "assert min_cost([[1, 2, 3], [4, 8, 2], [1, 5, 3]], 2, 2) == 8\n",
      "\n",
      "Different from baseline: True\n",
      "\n"
     ]
    },
    {
     "name": "stderr",
     "output_type": "stream",
     "text": [
      "\n"
     ]
    }
   ],
   "source": [
    "# Steering with \"incorrect\" direction\n",
    "print(\"Steering with 'incorrect' direction:\")\n",
    "incorrect_steered = steerer.generate_with_steering(\n",
    "    prompts=[test_prompt],\n",
    "    steering_vectors=[(SAE_LAYER, incorrect_direction, 2.0)],\n",
    "    max_new_tokens=100,\n",
    "    do_sample=False\n",
    ")\n",
    "print(f\"Incorrect steered: {incorrect_steered[0]}\")\n",
    "print(f\"Different from baseline: {incorrect_steered[0] != baseline[0]}\")\n",
    "print()"
   ]
  },
  {
   "cell_type": "code",
   "execution_count": 21,
   "metadata": {},
   "outputs": [
    {
     "name": "stdout",
     "output_type": "stream",
     "text": [
      "Ablating 'correct' direction:\n"
     ]
    },
    {
     "name": "stderr",
     "output_type": "stream",
     "text": [
      " 71%|███████   | 71/100 [00:11<00:04,  5.93it/s]"
     ]
    },
    {
     "name": "stdout",
     "output_type": "stream",
     "text": [
      "Ablated: \n",
      "def min_cost(grid, m, n):\n",
      "    # Your code here:\n",
      "    return 0\n",
      "\n",
      "# Test code:\n",
      "assert min_cost([[1, 2, 3], [4, 8, 2], [1, 5, 3]], 2, 2) == 8\n",
      "\n",
      "Different from baseline: False\n"
     ]
    },
    {
     "name": "stderr",
     "output_type": "stream",
     "text": [
      "\n"
     ]
    }
   ],
   "source": [
    "# Ablation experiment\n",
    "print(\"Ablating 'correct' direction:\")\n",
    "ablated = steerer.generate_with_steering(\n",
    "    prompts=[test_prompt],\n",
    "    ablation_vectors=[(SAE_LAYER, correct_direction)],\n",
    "    max_new_tokens=100,\n",
    "    do_sample=False\n",
    ")\n",
    "print(f\"Ablated: {ablated[0]}\")\n",
    "print(f\"Different from baseline: {ablated[0] != baseline[0]}\")"
   ]
  },
  {
   "cell_type": "markdown",
   "metadata": {},
   "source": [
    "## 7. Summary and Next Steps"
   ]
  },
  {
   "cell_type": "code",
   "execution_count": 22,
   "metadata": {},
   "outputs": [
    {
     "name": "stdout",
     "output_type": "stream",
     "text": [
      "============================================================\n",
      "ANALYSIS SUMMARY\n",
      "============================================================\n",
      "\n",
      "📊 Data:\n",
      "  - Total samples: 5\n",
      "  - Correct samples: 3\n",
      "  - Incorrect samples: 2\n",
      "\n",
      "🧠 Model:\n",
      "  - Model: google/gemma-2-2b\n",
      "  - Analysis layer: 20\n",
      "  - Hidden dimension: 2304\n",
      "\n",
      "🔍 SAE:\n",
      "  - SAE dimension: 16384\n",
      "  - Average sparsity: 0.0021\n",
      "  - Average L0 norm: 34.6\n",
      "\n",
      "🎯 PVA Directions:\n",
      "  - Best correct feature: 10257 (score: 0.667)\n",
      "  - Best incorrect feature: 8303 (score: 1.000)\n",
      "\n",
      "🚀 Capabilities Demonstrated:\n",
      "  ✓ TransformerLens integration\n",
      "  ✓ Robust activation extraction\n",
      "  ✓ SAE analysis with separation scores\n",
      "  ✓ PVA latent direction identification\n",
      "  ✓ Model steering and ablation\n",
      "  ✓ Hook-based intervention system\n",
      "\n",
      "📋 Next Steps for Phase 3:\n",
      "  - Scale to full MBPP dataset\n",
      "  - Implement statistical validation (AUROC, F1)\n",
      "  - Multi-layer analysis\n",
      "  - Robustness testing with different prompts\n",
      "  - Causal validation through steering experiments\n",
      "\n",
      "============================================================\n"
     ]
    }
   ],
   "source": [
    "print(\"=\" * 60)\n",
    "print(\"ANALYSIS SUMMARY\")\n",
    "print(\"=\" * 60)\n",
    "\n",
    "print(f\"\\n📊 Data:\")\n",
    "print(f\"  - Total samples: {len(prompts)}\")\n",
    "print(f\"  - Correct samples: {sum(labels)}\")\n",
    "print(f\"  - Incorrect samples: {len(labels) - sum(labels)}\")\n",
    "\n",
    "print(f\"\\n🧠 Model:\")\n",
    "print(f\"  - Model: {MODEL_NAME}\")\n",
    "print(f\"  - Analysis layer: {SAE_LAYER}\")\n",
    "print(f\"  - Hidden dimension: {model.cfg.d_model}\")\n",
    "\n",
    "print(f\"\\n🔍 SAE:\")\n",
    "print(f\"  - SAE dimension: {sae.W_enc.shape[1]}\")\n",
    "print(f\"  - Average sparsity: {(sae_activations > 0).float().mean():.4f}\")\n",
    "print(f\"  - Average L0 norm: {(sae_activations > 0).float().sum(dim=-1).mean():.1f}\")\n",
    "\n",
    "print(f\"\\n🎯 PVA Directions:\")\n",
    "print(f\"  - Best correct feature: {best_correct_feature} (score: {scores.s_correct[best_correct_feature]:.3f})\")\n",
    "print(f\"  - Best incorrect feature: {best_incorrect_feature} (score: {scores.s_incorrect[best_incorrect_feature]:.3f})\")\n",
    "\n",
    "print(f\"\\n🚀 Capabilities Demonstrated:\")\n",
    "print(f\"  ✓ TransformerLens integration\")\n",
    "print(f\"  ✓ Robust activation extraction\")\n",
    "print(f\"  ✓ SAE analysis with separation scores\")\n",
    "print(f\"  ✓ PVA latent direction identification\")\n",
    "print(f\"  ✓ Model steering and ablation\")\n",
    "print(f\"  ✓ Hook-based intervention system\")\n",
    "\n",
    "print(f\"\\n📋 Next Steps for Phase 3:\")\n",
    "print(f\"  - Scale to full MBPP dataset\")\n",
    "print(f\"  - Implement statistical validation (AUROC, F1)\")\n",
    "print(f\"  - Multi-layer analysis\")\n",
    "print(f\"  - Robustness testing with different prompts\")\n",
    "print(f\"  - Causal validation through steering experiments\")\n",
    "\n",
    "print(\"\\n\" + \"=\" * 60)"
   ]
  },
  {
   "cell_type": "code",
   "execution_count": null,
   "metadata": {},
   "outputs": [],
   "source": []
  }
 ],
 "metadata": {
  "kernelspec": {
   "display_name": "pva_sae",
   "language": "python",
   "name": "python3"
  },
  "language_info": {
   "codemirror_mode": {
    "name": "ipython",
    "version": 3
   },
   "file_extension": ".py",
   "mimetype": "text/x-python",
   "name": "python",
   "nbconvert_exporter": "python",
   "pygments_lexer": "ipython3",
   "version": "3.10.16"
  }
 },
 "nbformat": 4,
 "nbformat_minor": 4
}
