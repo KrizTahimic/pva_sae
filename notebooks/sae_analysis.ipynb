{
 "cells": [
  {
   "cell_type": "markdown",
   "metadata": {},
   "source": [
    "# SAE Analysis for PVA-SAE Project\n",
    "\n",
    "This notebook implements the complete SAE analysis pipeline using the cleaned up components:\n",
    "\n",
    "1. **SAE Activation Collection** - Extract activations at final token using hooks\n",
    "2. **Compute Separation Scores** - Calculate activation fractions per thesis methodology  \n",
    "3. **ArgMax Selection** - Find best features for correct/incorrect code\n",
    "4. **PVA Latent Direction** - Identify program validity awareness directions\n",
    "\n",
    "Using: Gemma 2 2B model, Layer 20 SAE, 10 MBPP samples\n",
    "\n",
    "**Usage**: Simply run all cells in order. The pipeline will handle all the complex steps automatically."
   ]
  },
  {
   "cell_type": "markdown",
   "metadata": {},
   "source": [
    "## Setup & Load Data"
   ]
  },
  {
   "cell_type": "code",
   "execution_count": 51,
   "metadata": {},
   "outputs": [
    {
     "name": "stdout",
     "output_type": "stream",
     "text": [
      "The autoreload extension is already loaded. To reload it, use:\n",
      "  %reload_ext autoreload\n",
      "Cleared MPS cache\n",
      "Device: mps\n",
      "MPS allocated: 14.26 GB\n"
     ]
    }
   ],
   "source": [
    "# Imports\n",
    "import pandas as pd\n",
    "import numpy as np\n",
    "import torch\n",
    "import matplotlib.pyplot as plt\n",
    "from pathlib import Path\n",
    "import sys\n",
    "sys.path.append('..')\n",
    "\n",
    "# Enable autoreload to pick up module changes\n",
    "%load_ext autoreload\n",
    "%autoreload 2\n",
    "\n",
    "# Clear MPS cache first\n",
    "if torch.backends.mps.is_available():\n",
    "    torch.mps.empty_cache()\n",
    "    print(\"Cleared MPS cache\")\n",
    "\n",
    "# Setup\n",
    "DEVICE = \"mps\" if torch.backends.mps.is_available() else \"cuda\" if torch.cuda.is_available() else \"cpu\"\n",
    "print(f\"Device: {DEVICE}\")\n",
    "\n",
    "# Check memory status\n",
    "if DEVICE == \"mps\":\n",
    "    print(f\"MPS allocated: {torch.mps.current_allocated_memory() / 1024**3:.2f} GB\")\n",
    "elif DEVICE == \"cuda\":\n",
    "    print(f\"CUDA allocated: {torch.cuda.memory_allocated() / 1024**3:.2f} GB\")"
   ]
  },
  {
   "cell_type": "code",
   "execution_count": 52,
   "metadata": {},
   "outputs": [
    {
     "name": "stdout",
     "output_type": "stream",
     "text": [
      "Loaded: dataset_gemma-2-2b_2025-06-01_14-54-19.parquet\n",
      "Shape: (10, 4)\n",
      "\n",
      "Correct: 3, Incorrect: 7\n"
     ]
    }
   ],
   "source": [
    "# Load dataset\n",
    "data_dir = Path(\"../data/datasets\")\n",
    "dataset_files = list(data_dir.glob(\"dataset_*.parquet\"))\n",
    "\n",
    "if dataset_files:\n",
    "    latest_dataset = max(dataset_files, key=lambda x: x.stat().st_mtime)\n",
    "    df = pd.read_parquet(latest_dataset)\n",
    "    print(f\"Loaded: {latest_dataset.name}\")\n",
    "    print(f\"Shape: {df.shape}\")\n",
    "    \n",
    "    # Add is_correct column\n",
    "    if 'test_passed' in df.columns:\n",
    "        df['is_correct'] = df['test_passed']\n",
    "    \n",
    "    print(f\"\\nCorrect: {df['is_correct'].sum()}, Incorrect: {(~df['is_correct']).sum()}\")\n",
    "else:\n",
    "    print(\"No dataset found!\")\n",
    "    df = None"
   ]
  },
  {
   "cell_type": "code",
   "metadata": {},
   "outputs": [],
   "source": "# Reconstruct prompts using modern PromptBuilder\nfrom common.prompt_utils import PromptBuilder\nfrom phase1_dataset_building.dataset_manager import PromptAwareDatasetManager\n\nif df is not None and 'prompt' not in df.columns:\n    print(\"Reconstructing prompts...\")\n    \n    # Load MBPP dataset\n    dataset_manager = PromptAwareDatasetManager()\n    dataset_manager.load_dataset()\n    \n    # Reconstruct prompts\n    prompts = []\n    for task_id in df['task_id']:\n        record = dataset_manager.get_record(task_id)\n        \n        # Extract components\n        problem_desc = record['text'].strip()\n        test_cases = '\\n'.join(record['test_list'])\n        \n        # Build prompt using modern PromptBuilder\n        prompt = PromptBuilder.build_standard_prompt(problem_desc, test_cases)\n        prompts.append(prompt)\n    \n    df['prompt'] = prompts\n    print(f\"Reconstructed {len(prompts)} prompts\")"
  },
  {
   "cell_type": "code",
   "metadata": {},
   "outputs": [],
   "source": "# Import simplified SAE analyzer\nfrom phase2_simplified.sae_analyzer import SimplifiedSAEAnalyzer, load_gemma_scope_sae\nfrom common.config import Config\n\nprint(\"Imports loaded\")"
  },
  {
   "cell_type": "code",
   "execution_count": 56,
   "metadata": {},
   "outputs": [
    {
     "name": "stderr",
     "output_type": "stream",
     "text": [
      "WARNING:root:You tried to specify center_unembed=True for a model using logit softcap, but this can't be done! Softcapping is not invariant upon adding a constant Setting center_unembed=False instead.\n"
     ]
    },
    {
     "name": "stdout",
     "output_type": "stream",
     "text": [
      "Cleared memory and MPS cache\n",
      "Loading model with TransformerLens...\n"
     ]
    },
    {
     "name": "stderr",
     "output_type": "stream",
     "text": [
      "Loading checkpoint shards: 100%|██████████| 3/3 [00:00<00:00, 34.50it/s]\n",
      "WARNING:root:You are not using LayerNorm, so the writing weights can't be centered! Skipping\n"
     ]
    },
    {
     "name": "stdout",
     "output_type": "stream",
     "text": [
      "Loaded pretrained model google/gemma-2-2b into HookedTransformer\n",
      "TransformerLens model loaded on mps\n",
      "SAE loaded\n"
     ]
    }
   ],
   "source": [
    "# Clear any existing models from memory first\n",
    "if 'model' in globals():\n",
    "    del model\n",
    "if 'sae_model' in globals():\n",
    "    del sae_model\n",
    "    \n",
    "# Force garbage collection and clear MPS cache\n",
    "import gc\n",
    "gc.collect()\n",
    "if torch.backends.mps.is_available():\n",
    "    torch.mps.empty_cache()\n",
    "    print(\"Cleared memory and MPS cache\")\n",
    "\n",
    "# Load model using TransformerLens\n",
    "print(\"Loading model with TransformerLens...\")\n",
    "model = HookedTransformer.from_pretrained(\n",
    "    MODEL_NAME,\n",
    "    torch_dtype=torch.float16 if DEVICE == \"cuda\" else torch.float32,\n",
    "    device=DEVICE\n",
    ")\n",
    "model.eval()\n",
    "print(f\"TransformerLens model loaded on {DEVICE}\")\n",
    "\n",
    "# Load SAE\n",
    "sae_model = load_gemma_scope_sae(\n",
    "    repo_id=SAE_CONFIG[\"repo_id\"],\n",
    "    sae_id=SAE_CONFIG[\"sae_id\"],\n",
    "    device=DEVICE\n",
    ")\n",
    "print(\"SAE loaded\")"
   ]
  },
  {
   "cell_type": "code",
   "metadata": {},
   "outputs": [],
   "source": "# Load model and tokenizer\nfrom transformers import AutoModelForCausalLM, AutoTokenizer\n\nMODEL_NAME = \"google/gemma-2-2b\"\n\n# Load tokenizer\ntokenizer = AutoTokenizer.from_pretrained(MODEL_NAME)\nif tokenizer.pad_token is None:\n    tokenizer.pad_token = tokenizer.eos_token\n\n# Load model\nprint(\"Loading model...\")\nmodel = AutoModelForCausalLM.from_pretrained(\n    MODEL_NAME,\n    torch_dtype=torch.float16 if DEVICE == \"cuda\" else torch.float32,\n    device_map=\"auto\" if DEVICE == \"cuda\" else None\n)\nif DEVICE != \"cuda\":\n    model = model.to(DEVICE)\nmodel.eval()\nprint(f\"Model loaded on {DEVICE}\")"
  },
  {
   "cell_type": "markdown",
   "metadata": {},
   "source": "# Note: The simplified analyzer works differently\n# It expects activations to be saved to disk from Phase 1\n# This notebook would need to be restructured to:\n# 1. First run Phase 1 to generate activations\n# 2. Then run Phase 2 analysis on saved activations\n\nprint(\"\"\"\nThe simplified SAE analyzer expects activations to be saved from Phase 1.\nTo use it:\n\n1. Run Phase 1 to generate dataset and save activations:\n   python3 run.py phase 1 --end 10\n   \n2. Run Phase 2 to analyze saved activations:\n   python3 run.py phase 2\n   \nThe analysis results will be saved to data/phase2/sae_analysis_results.json\n\"\"\")",
   "outputs": []
  },
  {
   "cell_type": "code",
   "execution_count": 59,
   "metadata": {},
   "outputs": [
    {
     "name": "stdout",
     "output_type": "stream",
     "text": [
      "Separation score statistics:\n",
      "  Mean f_correct: 0.0020\n",
      "  Mean f_incorrect: 0.0021\n",
      "  Max s_correct: 0.3333\n",
      "  Max s_incorrect: 0.5238\n",
      "\n",
      "PVA Directions:\n",
      "  PVA Correct Direction: Layer 20, Feature 5386, Score=0.333\n",
      "  PVA Incorrect Direction: Layer 20, Feature 1613, Score=0.524\n"
     ]
    }
   ],
   "source": [
    "# Extract results for visualization\n",
    "if 'results' in locals():\n",
    "    scores = results.separation_scores\n",
    "    correct_direction = results.correct_direction\n",
    "    incorrect_direction = results.incorrect_direction\n",
    "    \n",
    "    print(\"Separation score statistics:\")\n",
    "    print(f\"  Mean f_correct: {scores.f_correct.mean():.4f}\")\n",
    "    print(f\"  Mean f_incorrect: {scores.f_incorrect.mean():.4f}\")\n",
    "    print(f\"  Max s_correct: {scores.s_correct.max():.4f}\")\n",
    "    print(f\"  Max s_incorrect: {scores.s_incorrect.max():.4f}\")\n",
    "    \n",
    "    print(\"\\nPVA Directions:\")\n",
    "    print(f\"  {correct_direction}\")\n",
    "    print(f\"  {incorrect_direction}\")"
   ]
  },
  {
   "cell_type": "code",
   "execution_count": 61,
   "metadata": {},
   "outputs": [
    {
     "data": {
      "image/png": "[encoded data removed]",
      "text/plain": [
       "<Figure size 1200x500 with 2 Axes>"
      ]
     },
     "metadata": {},
     "output_type": "display_data"
    }
   ],
   "source": [
    "# Simple visualization of top features\n",
    "if 'scores' in locals():\n",
    "    # Get top 10 features for each direction\n",
    "    top_k = 10\n",
    "    \n",
    "    top_correct_scores, top_correct_idx = torch.topk(scores.s_correct, top_k)\n",
    "    top_incorrect_scores, top_incorrect_idx = torch.topk(scores.s_incorrect, top_k)\n",
    "    \n",
    "    # Plot\n",
    "    fig, (ax1, ax2) = plt.subplots(1, 2, figsize=(12, 5))\n",
    "    \n",
    "    # Correct direction\n",
    "    ax1.bar(range(top_k), top_correct_scores.cpu().numpy())\n",
    "    ax1.set_xlabel('Rank')\n",
    "    ax1.set_ylabel('Separation Score (f_correct - f_incorrect)')\n",
    "    ax1.set_title('Top Correct Code Features')\n",
    "    ax1.set_xticks(range(top_k))\n",
    "    ax1.set_xticklabels([f'{idx}' for idx in top_correct_idx.cpu().numpy()], rotation=45)\n",
    "    \n",
    "    # Incorrect direction\n",
    "    ax2.bar(range(top_k), top_incorrect_scores.cpu().numpy(), color='orange')\n",
    "    ax2.set_xlabel('Rank')\n",
    "    ax2.set_ylabel('Separation Score (f_incorrect - f_correct)')\n",
    "    ax2.set_title('Top Incorrect Code Features')\n",
    "    ax2.set_xticks(range(top_k))\n",
    "    ax2.set_xticklabels([f'{idx}' for idx in top_incorrect_idx.cpu().numpy()], rotation=45)\n",
    "    \n",
    "    plt.tight_layout()\n",
    "    plt.show()"
   ]
  },
  {
   "cell_type": "code",
   "execution_count": 62,
   "metadata": {},
   "outputs": [
    {
     "name": "stdout",
     "output_type": "stream",
     "text": [
      "Memory cleaned\n"
     ]
    }
   ],
   "source": [
    "# Clean up memory\n",
    "if 'model' in locals():\n",
    "    del model\n",
    "    if DEVICE == \"mps\":\n",
    "        torch.mps.empty_cache()\n",
    "    elif DEVICE == \"cuda\":\n",
    "        torch.cuda.empty_cache()\n",
    "    print(\"Memory cleaned\")"
   ]
  },
  {
   "cell_type": "markdown",
   "metadata": {},
   "source": [
    "## Summary\n",
    "\n",
    "This notebook successfully demonstrates the cleaned up SAE analysis pipeline:\n",
    "\n",
    "1. ✅ **SAE Activation Collection** - Extracted activations at final prompt token\n",
    "2. ✅ **Separation Score Computation** - Computed using activation fractions (thesis methodology)\n",
    "3. ✅ **ArgMax Selection** - Selected best features for correct/incorrect directions\n",
    "4. ✅ **PVA Latent Direction** - Identified program validity awareness directions for layer 20\n",
    "\n",
    "The pipeline automatically handles all complex steps including:\n",
    "- Model and SAE loading\n",
    "- Hook-based activation extraction\n",
    "- Separation score computation\n",
    "- Feature ranking and selection\n",
    "\n",
    "The identified PVA directions can now be used for model steering experiments in Phase 3."
   ]
  }
 ],
 "metadata": {
  "kernelspec": {
   "display_name": "pva_sae",
   "language": "python",
   "name": "python3"
  },
  "language_info": {
   "codemirror_mode": {
    "name": "ipython",
    "version": 3
   },
   "file_extension": ".py",
   "mimetype": "text/x-python",
   "name": "python",
   "nbconvert_exporter": "python",
   "pygments_lexer": "ipython3",
   "version": "3.10.16"
  }
 },
 "nbformat": 4,
 "nbformat_minor": 4
}