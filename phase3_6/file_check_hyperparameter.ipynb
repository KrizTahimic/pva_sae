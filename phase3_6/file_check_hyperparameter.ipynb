{
 "cells": [
  {
   "cell_type": "markdown",
   "metadata": {},
   "source": [
    "# Phase 3.6 Hyperparameter Dataset Checker\n",
    "\n",
    "This notebook checks the Phase 3.6 hyperparameter data and displays the first 10 rows."
   ]
  },
  {
   "cell_type": "code",
   "execution_count": 5,
   "metadata": {},
   "outputs": [
    {
     "name": "stdout",
     "output_type": "stream",
     "text": [
      "Looking for hyperparameter data in: /Users/krizroycetahimic/Documents/Thesis/Code/pva_sae/phase3_6/../data/phase3_6\n"
     ]
    }
   ],
   "source": [
    "import pandas as pd\n",
    "from pathlib import Path\n",
    "import glob\n",
    "\n",
    "# Find the data directory\n",
    "data_dir = Path(\"../data/phase3_6\")\n",
    "print(f\"Looking for hyperparameter data in: {data_dir.absolute()}\")"
   ]
  },
  {
   "cell_type": "code",
   "execution_count": 7,
   "metadata": {},
   "outputs": [
    {
     "name": "stdout",
     "output_type": "stream",
     "text": [
      "Found 1 parquet files:\n",
      "  - dataset_hyperparams_temp_0_0.parquet\n",
      "\n",
      "Using file: dataset_hyperparams_temp_0_0.parquet\n",
      "\n",
      "Dataset shape: (3, 8)\n",
      "Columns: ['task_id', 'temperature', 'prompt', 'generated_code', 'test_passed', 'error_message', 'generation_time', 'complexity_score']\n",
      "\n",
      "First 10 rows:\n"
     ]
    },
    {
     "data": {
      "text/html": [
       "<div>\n",
       "<style scoped>\n",
       "    .dataframe tbody tr th:only-of-type {\n",
       "        vertical-align: middle;\n",
       "    }\n",
       "\n",
       "    .dataframe tbody tr th {\n",
       "        vertical-align: top;\n",
       "    }\n",
       "\n",
       "    .dataframe thead th {\n",
       "        text-align: right;\n",
       "    }\n",
       "</style>\n",
       "<table border=\"1\" class=\"dataframe\">\n",
       "  <thead>\n",
       "    <tr style=\"text-align: right;\">\n",
       "      <th></th>\n",
       "      <th>task_id</th>\n",
       "      <th>temperature</th>\n",
       "      <th>prompt</th>\n",
       "      <th>generated_code</th>\n",
       "      <th>test_passed</th>\n",
       "      <th>error_message</th>\n",
       "      <th>generation_time</th>\n",
       "      <th>complexity_score</th>\n",
       "    </tr>\n",
       "  </thead>\n",
       "  <tbody>\n",
       "    <tr>\n",
       "      <th>0</th>\n",
       "      <td>28</td>\n",
       "      <td>0.0</td>\n",
       "      <td>Write a Python function to solve the following...</td>\n",
       "      <td>def binomial_Coeff(n, k):\\n    if k &gt; n:\\n    ...</td>\n",
       "      <td>True</td>\n",
       "      <td>None</td>\n",
       "      <td>14.160466</td>\n",
       "      <td>0.0</td>\n",
       "    </tr>\n",
       "    <tr>\n",
       "      <th>1</th>\n",
       "      <td>42</td>\n",
       "      <td>0.0</td>\n",
       "      <td>Write a Python function to solve the following...</td>\n",
       "      <td>def find_Sum(arr, num):\\n    # Your code here\\...</td>\n",
       "      <td>False</td>\n",
       "      <td>None</td>\n",
       "      <td>15.682854</td>\n",
       "      <td>0.0</td>\n",
       "    </tr>\n",
       "    <tr>\n",
       "      <th>2</th>\n",
       "      <td>53</td>\n",
       "      <td>0.0</td>\n",
       "      <td>Write a Python function to solve the following...</td>\n",
       "      <td>def check_Equality(string):\\n    if string[0] ...</td>\n",
       "      <td>True</td>\n",
       "      <td>None</td>\n",
       "      <td>6.330396</td>\n",
       "      <td>0.0</td>\n",
       "    </tr>\n",
       "  </tbody>\n",
       "</table>\n",
       "</div>"
      ],
      "text/plain": [
       "   task_id  temperature                                             prompt  \\\n",
       "0       28          0.0  Write a Python function to solve the following...   \n",
       "1       42          0.0  Write a Python function to solve the following...   \n",
       "2       53          0.0  Write a Python function to solve the following...   \n",
       "\n",
       "                                      generated_code  test_passed  \\\n",
       "0  def binomial_Coeff(n, k):\\n    if k > n:\\n    ...         True   \n",
       "1  def find_Sum(arr, num):\\n    # Your code here\\...        False   \n",
       "2  def check_Equality(string):\\n    if string[0] ...         True   \n",
       "\n",
       "  error_message  generation_time  complexity_score  \n",
       "0          None        14.160466               0.0  \n",
       "1          None        15.682854               0.0  \n",
       "2          None         6.330396               0.0  "
      ]
     },
     "metadata": {},
     "output_type": "display_data"
    }
   ],
   "source": [
    "# Find parquet files using autodiscovery\n",
    "parquet_files = list(data_dir.glob(\"*.parquet\"))\n",
    "parquet_files.sort(key=lambda x: x.stat().st_mtime, reverse=True)\n",
    "\n",
    "if not parquet_files:\n",
    "    print(\"No parquet files found!\")\n",
    "else:\n",
    "    print(f\"Found {len(parquet_files)} parquet files:\")\n",
    "    for file in parquet_files:\n",
    "        print(f\"  - {file.name}\")\n",
    "    \n",
    "    # Load the first (most recent) file\n",
    "    latest_file = parquet_files[0]\n",
    "    print(f\"\\nUsing file: {latest_file.name}\")\n",
    "    \n",
    "    df = pd.read_parquet(latest_file)\n",
    "    print(f\"\\nDataset shape: {df.shape}\")\n",
    "    print(f\"Columns: {df.columns.tolist()}\")\n",
    "    print(\"\\nFirst 10 rows:\")\n",
    "    display(df.head(10))"
   ]
  },
  {
   "cell_type": "code",
   "execution_count": null,
   "metadata": {},
   "outputs": [],
   "source": []
  }
 ],
 "metadata": {
  "kernelspec": {
   "display_name": "pva_sae",
   "language": "python",
   "name": "python3"
  },
  "language_info": {
   "codemirror_mode": {
    "name": "ipython",
    "version": 3
   },
   "file_extension": ".py",
   "mimetype": "text/x-python",
   "name": "python",
   "nbconvert_exporter": "python",
   "pygments_lexer": "ipython3",
   "version": "3.10.16"
  }
 },
 "nbformat": 4,
 "nbformat_minor": 4
}
