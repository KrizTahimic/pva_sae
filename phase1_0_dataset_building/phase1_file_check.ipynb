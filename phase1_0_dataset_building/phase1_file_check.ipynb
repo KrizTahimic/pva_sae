{
 "cells": [
  {
   "cell_type": "code",
   "execution_count": 3,
   "id": "00e7fdc8",
   "metadata": {},
   "outputs": [],
   "source": [
    "import pandas as pd\n",
    "import os\n",
    "from pathlib import Path"
   ]
  },
  {
   "cell_type": "code",
   "execution_count": 4,
   "id": "7c28f810",
   "metadata": {},
   "outputs": [
    {
     "name": "stdout",
     "output_type": "stream",
     "text": [
      "🔍 Auto-discovered latest dataset: dataset_gemma-2-9b_2025-06-08_19-59-38.parquet\n",
      "📅 Last modified: 2025-06-08 19:59:38\n"
     ]
    }
   ],
   "source": [
    "# Paste the parquet file path here, or leave empty to auto-find latest\n",
    "file_path = \"\"  # Replace with your parquet file path, or leave empty for auto-discovery\n",
    "\n",
    "# Auto-discovery of latest dataset if file_path is empty\n",
    "if not file_path.strip():\n",
    "    import glob\n",
    "    \n",
    "    # Search for all Phase 1 dataset parquet files\n",
    "    datasets_dir = \"../data/phase1/\"\n",
    "    pattern = os.path.join(datasets_dir, \"dataset_*.parquet\")\n",
    "    matching_files = glob.glob(pattern)\n",
    "    \n",
    "    if matching_files:\n",
    "        # Sort by modification time to get the latest file\n",
    "        latest_file = max(matching_files, key=os.path.getmtime)\n",
    "        file_path = latest_file\n",
    "        print(f\"🔍 Auto-discovered latest dataset: {Path(file_path).name}\")\n",
    "        print(f\"📅 Last modified: {pd.Timestamp.fromtimestamp(os.path.getmtime(file_path)).strftime('%Y-%m-%d %H:%M:%S')}\")\n",
    "    else:\n",
    "        raise FileNotFoundError(f\"No Phase 1 dataset files found in {datasets_dir}\")\n",
    "else:\n",
    "    print(f\"📁 Using specified file: {Path(file_path).name}\")\n",
    "\n",
    "# Verify file exists\n",
    "if not os.path.exists(file_path):\n",
    "    raise FileNotFoundError(f\"File not found: {file_path}\")"
   ]
  },
  {
   "cell_type": "code",
   "execution_count": 5,
   "id": "85cdf668",
   "metadata": {},
   "outputs": [
    {
     "name": "stdout",
     "output_type": "stream",
     "text": [
      "Dataset Information:\n",
      "Number of records: 10\n",
      "Number of columns: 4\n",
      "Columns: ['task_id', 'generated_code', 'test_passed', 'complexity_score']\n",
      "File size: 0.00 MB\n"
     ]
    }
   ],
   "source": [
    "# Load parquet file and display basic info\n",
    "df = pd.read_parquet(file_path)\n",
    "\n",
    "print(f\"Dataset Information:\")\n",
    "print(f\"Number of records: {len(df):,}\")\n",
    "print(f\"Number of columns: {len(df.columns)}\")\n",
    "print(f\"Columns: {list(df.columns)}\")\n",
    "print(f\"File size: {os.path.getsize(file_path) / (1024**2):.2f} MB\")"
   ]
  },
  {
   "cell_type": "code",
   "execution_count": 6,
   "id": "7f8142e3",
   "metadata": {},
   "outputs": [
    {
     "name": "stdout",
     "output_type": "stream",
     "text": [
      "Column Information:\n",
      "<class 'pandas.core.frame.DataFrame'>\n",
      "RangeIndex: 10 entries, 0 to 9\n",
      "Data columns (total 4 columns):\n",
      " #   Column            Non-Null Count  Dtype \n",
      "---  ------            --------------  ----- \n",
      " 0   task_id           10 non-null     int64 \n",
      " 1   generated_code    10 non-null     object\n",
      " 2   test_passed       10 non-null     bool  \n",
      " 3   complexity_score  10 non-null     int64 \n",
      "dtypes: bool(1), int64(2), object(1)\n",
      "memory usage: 378.0+ bytes\n",
      "None\n",
      "\n",
      "Data types:\n",
      "task_id              int64\n",
      "generated_code      object\n",
      "test_passed           bool\n",
      "complexity_score     int64\n",
      "dtype: object\n"
     ]
    }
   ],
   "source": [
    "# Display column types and basic statistics\n",
    "print(\"Column Information:\")\n",
    "print(df.info())\n",
    "print(\"\\nData types:\")\n",
    "print(df.dtypes)"
   ]
  },
  {
   "cell_type": "code",
   "execution_count": 7,
   "id": "a3c6a371",
   "metadata": {},
   "outputs": [
    {
     "name": "stdout",
     "output_type": "stream",
     "text": [
      "First 10 records:\n"
     ]
    },
    {
     "data": {
      "text/html": [
       "<div>\n",
       "<style scoped>\n",
       "    .dataframe tbody tr th:only-of-type {\n",
       "        vertical-align: middle;\n",
       "    }\n",
       "\n",
       "    .dataframe tbody tr th {\n",
       "        vertical-align: top;\n",
       "    }\n",
       "\n",
       "    .dataframe thead th {\n",
       "        text-align: right;\n",
       "    }\n",
       "</style>\n",
       "<table border=\"1\" class=\"dataframe\">\n",
       "  <thead>\n",
       "    <tr style=\"text-align: right;\">\n",
       "      <th></th>\n",
       "      <th>task_id</th>\n",
       "      <th>generated_code</th>\n",
       "      <th>test_passed</th>\n",
       "      <th>complexity_score</th>\n",
       "    </tr>\n",
       "  </thead>\n",
       "  <tbody>\n",
       "    <tr>\n",
       "      <th>0</th>\n",
       "      <td>1</td>\n",
       "      <td>\\ndef min_cost(cost, m, n):\\n    # Write your ...</td>\n",
       "      <td>False</td>\n",
       "      <td>7</td>\n",
       "    </tr>\n",
       "    <tr>\n",
       "      <th>1</th>\n",
       "      <td>2</td>\n",
       "      <td>\\ndef similar_elements(list1, list2):\\n    # W...</td>\n",
       "      <td>False</td>\n",
       "      <td>1</td>\n",
       "    </tr>\n",
       "    <tr>\n",
       "      <th>2</th>\n",
       "      <td>3</td>\n",
       "      <td>\\ndef is_not_prime(n):\\n    if n == 2:\\n      ...</td>\n",
       "      <td>True</td>\n",
       "      <td>3</td>\n",
       "    </tr>\n",
       "    <tr>\n",
       "      <th>3</th>\n",
       "      <td>4</td>\n",
       "      <td>\\ndef heap_queue_largest(nums, k):\\n    # Your...</td>\n",
       "      <td>False</td>\n",
       "      <td>1</td>\n",
       "    </tr>\n",
       "    <tr>\n",
       "      <th>4</th>\n",
       "      <td>5</td>\n",
       "      <td>\\ndef count_ways(n):\\n    if n == 2:\\n        ...</td>\n",
       "      <td>True</td>\n",
       "      <td>2</td>\n",
       "    </tr>\n",
       "    <tr>\n",
       "      <th>5</th>\n",
       "      <td>6</td>\n",
       "      <td>\\ndef differ_At_One_Bit_Pos(a,b):\\n    return ...</td>\n",
       "      <td>False</td>\n",
       "      <td>2</td>\n",
       "    </tr>\n",
       "    <tr>\n",
       "      <th>6</th>\n",
       "      <td>7</td>\n",
       "      <td>\\ndef find_char_long(string):\\n    # Write you...</td>\n",
       "      <td>False</td>\n",
       "      <td>1</td>\n",
       "    </tr>\n",
       "    <tr>\n",
       "      <th>7</th>\n",
       "      <td>8</td>\n",
       "      <td>\\ndef square_nums(nums):\\n    return list(map(...</td>\n",
       "      <td>True</td>\n",
       "      <td>1</td>\n",
       "    </tr>\n",
       "    <tr>\n",
       "      <th>8</th>\n",
       "      <td>9</td>\n",
       "      <td>\\ndef find_Rotations(s):\\n    # Write your cod...</td>\n",
       "      <td>False</td>\n",
       "      <td>3</td>\n",
       "    </tr>\n",
       "    <tr>\n",
       "      <th>9</th>\n",
       "      <td>10</td>\n",
       "      <td>\\ndef small_nnum(dataset, n):\\n    # Your code...</td>\n",
       "      <td>False</td>\n",
       "      <td>1</td>\n",
       "    </tr>\n",
       "  </tbody>\n",
       "</table>\n",
       "</div>"
      ],
      "text/plain": [
       "   task_id                                     generated_code  test_passed  \\\n",
       "0        1  \\ndef min_cost(cost, m, n):\\n    # Write your ...        False   \n",
       "1        2  \\ndef similar_elements(list1, list2):\\n    # W...        False   \n",
       "2        3  \\ndef is_not_prime(n):\\n    if n == 2:\\n      ...         True   \n",
       "3        4  \\ndef heap_queue_largest(nums, k):\\n    # Your...        False   \n",
       "4        5  \\ndef count_ways(n):\\n    if n == 2:\\n        ...         True   \n",
       "5        6  \\ndef differ_At_One_Bit_Pos(a,b):\\n    return ...        False   \n",
       "6        7  \\ndef find_char_long(string):\\n    # Write you...        False   \n",
       "7        8  \\ndef square_nums(nums):\\n    return list(map(...         True   \n",
       "8        9  \\ndef find_Rotations(s):\\n    # Write your cod...        False   \n",
       "9       10  \\ndef small_nnum(dataset, n):\\n    # Your code...        False   \n",
       "\n",
       "   complexity_score  \n",
       "0                 7  \n",
       "1                 1  \n",
       "2                 3  \n",
       "3                 1  \n",
       "4                 2  \n",
       "5                 2  \n",
       "6                 1  \n",
       "7                 1  \n",
       "8                 3  \n",
       "9                 1  "
      ]
     },
     "execution_count": 7,
     "metadata": {},
     "output_type": "execute_result"
    }
   ],
   "source": [
    "# Display first 10 records in a clean table format\n",
    "print(\"First 10 records:\")\n",
    "df.head(10)"
   ]
  },
  {
   "cell_type": "code",
   "execution_count": 8,
   "id": "2fc941a1",
   "metadata": {},
   "outputs": [
    {
     "name": "stdout",
     "output_type": "stream",
     "text": [
      "========================================\n",
      "PHASE 1 DATASET SUMMARY\n",
      "========================================\n",
      "\n",
      "Total records: 10\n",
      "Test pass ratio: 3/10\n",
      "Test pass percentage: 30.0%\n"
     ]
    }
   ],
   "source": [
    "# Phase 1 Dataset Summary\n",
    "print(\"=\" * 40)\n",
    "print(\"PHASE 1 DATASET SUMMARY\")\n",
    "print(\"=\" * 40)\n",
    "\n",
    "# Basic statistics\n",
    "total_records = len(df)\n",
    "passed_tests = df['test_passed'].sum()\n",
    "pass_percentage = (passed_tests / total_records) * 100\n",
    "\n",
    "print(f\"\\nTotal records: {total_records:,}\")\n",
    "print(f\"Test pass ratio: {passed_tests}/{total_records}\")\n",
    "print(f\"Test pass percentage: {pass_percentage:.1f}%\")"
   ]
  },
  {
   "cell_type": "code",
   "execution_count": null,
   "id": "5ba09fbb",
   "metadata": {},
   "outputs": [],
   "source": []
  }
 ],
 "metadata": {
  "kernelspec": {
   "display_name": "pva_sae",
   "language": "python",
   "name": "python3"
  },
  "language_info": {
   "codemirror_mode": {
    "name": "ipython",
    "version": 3
   },
   "file_extension": ".py",
   "mimetype": "text/x-python",
   "name": "python",
   "nbconvert_exporter": "python",
   "pygments_lexer": "ipython3",
   "version": "3.10.16"
  }
 },
 "nbformat": 4,
 "nbformat_minor": 5
}
