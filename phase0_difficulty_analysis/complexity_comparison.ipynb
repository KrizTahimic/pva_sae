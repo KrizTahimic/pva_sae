{
 "cells": [
  {
   "cell_type": "markdown",
   "metadata": {},
   "source": [
    "# Cognitive vs Cyclomatic Complexity\n",
    "\n",
    "This notebook compares **Cognitive Complexity** and **Cyclomatic Complexity** for grading MBPP problem difficulty.\n",
    "\n",
    "**Goal**: Choose the best metric to categorize problems as easy, medium, or hard for analyzing model performance patterns."
   ]
  },
  {
   "cell_type": "code",
   "execution_count": 1,
   "metadata": {},
   "outputs": [
    {
     "name": "stderr",
     "output_type": "stream",
     "text": [
      "/Users/krizroycetahimic/miniconda3/envs/pva_sae/lib/python3.10/site-packages/tqdm/auto.py:21: TqdmWarning: IProgress not found. Please update jupyter and ipywidgets. See https://ipywidgets.readthedocs.io/en/stable/user_install.html\n",
      "  from .autonotebook import tqdm as notebook_tqdm\n"
     ]
    },
    {
     "name": "stdout",
     "output_type": "stream",
     "text": [
      "Loaded 974 test problems\n"
     ]
    }
   ],
   "source": [
    "# Setup and imports\n",
    "import ast\n",
    "import matplotlib.pyplot as plt\n",
    "import numpy as np\n",
    "from datasets import load_dataset\n",
    "from cognitive_complexity.api import get_cognitive_complexity\n",
    "from radon.complexity import cc_visit\n",
    "\n",
    "# Load MBPP dataset\n",
    "dataset = load_dataset(\"Muennighoff/mbpp\", \"full\")\n",
    "print(f\"Loaded {len(dataset['test'])} test problems\")"
   ]
  },
  {
   "cell_type": "code",
   "execution_count": 2,
   "metadata": {},
   "outputs": [],
   "source": [
    "# Define complexity calculation functions\n",
    "def get_cognitive(code):\n",
    "    try:\n",
    "        tree = ast.parse(code)\n",
    "        for node in ast.walk(tree):\n",
    "            if isinstance(node, ast.FunctionDef):\n",
    "                return get_cognitive_complexity(node)\n",
    "        return 0\n",
    "    except:\n",
    "        return None\n",
    "\n",
    "def get_cyclomatic(code):\n",
    "    try:\n",
    "        results = cc_visit(code)\n",
    "        return max(r.complexity for r in results) if results else 0\n",
    "    except:\n",
    "        return None"
   ]
  },
  {
   "cell_type": "code",
   "execution_count": 3,
   "metadata": {},
   "outputs": [
    {
     "name": "stdout",
     "output_type": "stream",
     "text": [
      "Comparing Complexity Metrics on MBPP Problems:\n",
      "\n",
      "Task   Cognitive  Cyclomatic  Problem\n",
      "----------------------------------------------------------------------\n",
      "1      5          7           Write a function to find the minimum cos...\n",
      "2      0          1           Write a function to find the similar ele...\n",
      "3      3          3           Write a python function to identify non-...\n",
      "4      0          1           Write a function to find the largest int...\n",
      "5      1          2           Write a function to find the number of w...\n",
      "6      1          2           Write a python function to check whether...\n",
      "7      0          1           Write a function to find all words which...\n",
      "8      0          1           Write a function to find squares of indi...\n",
      "9      3          3           Write a python function to find the mini...\n",
      "10     0          1           Write a function to get the n smallest i...\n",
      "11     6          5           Write a python function to remove first ...\n",
      "12     0          1           Write a function to sort a given matrix ...\n",
      "13     0          1           Write a function to count the most commo...\n",
      "14     0          1           Write a python function to find the volu...\n",
      "15     0          1           Write a function to split a string at lo...\n",
      "16     2          2           Write a function to find sequences of lo...\n",
      "17     0          1           Write a function to find the perimeter o...\n",
      "18     1          3           Write a function to remove characters fr...\n",
      "19     0          1           Write a function to find whether a given...\n",
      "20     5          5           Write a function to check if the given n...\n"
     ]
    }
   ],
   "source": [
    "# Compare both metrics on sample problems\n",
    "print(\"Comparing Complexity Metrics on MBPP Problems:\\n\")\n",
    "print(f\"{'Task':<6} {'Cognitive':<10} {'Cyclomatic':<11} Problem\")\n",
    "print(\"-\" * 70)\n",
    "\n",
    "for i in range(20):  # First 20 problems\n",
    "    record = dataset['test'][i]\n",
    "    cog = get_cognitive(record['code'])\n",
    "    cyc = get_cyclomatic(record['code'])\n",
    "    problem = record['text'][:40] + '...'\n",
    "    print(f\"{record['task_id']:<6} {cog:<10} {cyc:<11} {problem}\")"
   ]
  },
  {
   "cell_type": "code",
   "execution_count": 4,
   "metadata": {},
   "outputs": [
    {
     "name": "stdout",
     "output_type": "stream",
     "text": [
      "Distribution Analysis:\n",
      "\n",
      "Cognitive Complexity:\n",
      "  Problems with score 0: 409 (42.0%)\n",
      "  Mean: 2.30, Median: 1\n",
      "\n",
      "Cyclomatic Complexity:\n",
      "  Problems with score 1: 268 (27.5%)\n",
      "  Mean: 2.84, Median: 2\n"
     ]
    }
   ],
   "source": [
    "# Analyze all problems\n",
    "cognitive_scores = []\n",
    "cyclomatic_scores = []\n",
    "\n",
    "for record in dataset['test']:\n",
    "    cog = get_cognitive(record['code'])\n",
    "    cyc = get_cyclomatic(record['code'])\n",
    "    if cog is not None and cyc is not None:\n",
    "        cognitive_scores.append(cog)\n",
    "        cyclomatic_scores.append(cyc)\n",
    "\n",
    "# Statistics\n",
    "print(\"Distribution Analysis:\")\n",
    "print(f\"\\nCognitive Complexity:\")\n",
    "print(f\"  Problems with score 0: {cognitive_scores.count(0)} ({cognitive_scores.count(0)/len(cognitive_scores)*100:.1f}%)\")\n",
    "print(f\"  Mean: {np.mean(cognitive_scores):.2f}, Median: {np.median(cognitive_scores):.0f}\")\n",
    "\n",
    "print(f\"\\nCyclomatic Complexity:\")\n",
    "print(f\"  Problems with score 1: {cyclomatic_scores.count(1)} ({cyclomatic_scores.count(1)/len(cyclomatic_scores)*100:.1f}%)\")\n",
    "print(f\"  Mean: {np.mean(cyclomatic_scores):.2f}, Median: {np.median(cyclomatic_scores):.0f}\")"
   ]
  },
  {
   "cell_type": "code",
   "execution_count": 5,
   "metadata": {},
   "outputs": [
    {
     "data": {
      "image/png": "[encoded data removed]",
      "text/plain": [
       "<Figure size 1200x500 with 2 Axes>"
      ]
     },
     "metadata": {},
     "output_type": "display_data"
    }
   ],
   "source": [
    "# Visualize distributions\n",
    "fig, (ax1, ax2) = plt.subplots(1, 2, figsize=(12, 5))\n",
    "\n",
    "# Cognitive Complexity\n",
    "ax1.hist(cognitive_scores, bins=range(0, max(cognitive_scores)+2), edgecolor='black', alpha=0.7)\n",
    "ax1.set_xlabel('Cognitive Complexity Score')\n",
    "ax1.set_ylabel('Number of Problems')\n",
    "ax1.set_title('Cognitive Complexity Distribution')\n",
    "ax1.axvline(x=0, color='red', linestyle='--', label=f'{cognitive_scores.count(0)} problems at 0')\n",
    "ax1.legend()\n",
    "\n",
    "# Cyclomatic Complexity  \n",
    "ax2.hist(cyclomatic_scores, bins=range(1, max(cyclomatic_scores)+2), edgecolor='black', alpha=0.7)\n",
    "ax2.set_xlabel('Cyclomatic Complexity Score')\n",
    "ax2.set_ylabel('Number of Problems')\n",
    "ax2.set_title('Cyclomatic Complexity Distribution')\n",
    "\n",
    "plt.tight_layout()\n",
    "plt.show()"
   ]
  },
  {
   "cell_type": "markdown",
   "metadata": {},
   "source": [
    "## Key Finding\n",
    "\n",
    "**Cognitive Complexity** gives a score of 0 to many MBPP problems because they lack control flow structures (if/for/while). This makes it poor for differentiating problem difficulty.\n",
    "\n",
    "**Cyclomatic Complexity** provides better differentiation by counting all decision points, giving us a more nuanced difficulty grading.\n",
    "\n",
    "### Recommended Difficulty Categories (Cyclomatic):\n",
    "- **Easy**: 1-4 (simple, linear code)\n",
    "- **Medium**: 5-7 (moderate complexity)\n",
    "- **Hard**: 8+ (complex logic)"
   ]
  },
  {
   "cell_type": "code",
   "execution_count": 6,
   "metadata": {},
   "outputs": [
    {
     "name": "stdout",
     "output_type": "stream",
     "text": [
      "Problem Difficulty Distribution:\n",
      "  easy: 832 (85.4%)\n",
      "  medium: 105 (10.8%)\n",
      "  hard: 37 (3.8%)\n"
     ]
    }
   ],
   "source": [
    "# Apply difficulty categories\n",
    "def categorize(score):\n",
    "    if score <= 4: return 'easy'\n",
    "    elif score <= 7: return 'medium'\n",
    "    else: return 'hard'\n",
    "\n",
    "difficulties = [categorize(s) for s in cyclomatic_scores]\n",
    "print(\"Problem Difficulty Distribution:\")\n",
    "for level in ['easy', 'medium', 'hard']:\n",
    "    count = difficulties.count(level)\n",
    "    print(f\"  {level}: {count} ({count/len(difficulties)*100:.1f}%)\")"
   ]
  },
  {
   "cell_type": "code",
   "execution_count": 1,
   "metadata": {},
   "outputs": [
    {
     "ename": "ModuleNotFoundError",
     "evalue": "No module named 'common'",
     "output_type": "error",
     "traceback": [
      "\u001b[0;31m---------------------------------------------------------------------------\u001b[0m",
      "\u001b[0;31mModuleNotFoundError\u001b[0m                       Traceback (most recent call last)",
      "Cell \u001b[0;32mIn[1], line 2\u001b[0m\n\u001b[1;32m      1\u001b[0m \u001b[38;5;66;03m# Test prompt builder with multiple examples\u001b[39;00m\n\u001b[0;32m----> 2\u001b[0m \u001b[38;5;28;01mfrom\u001b[39;00m\u001b[38;5;250m \u001b[39m\u001b[38;5;21;01mcommon\u001b[39;00m\u001b[38;5;21;01m.\u001b[39;00m\u001b[38;5;21;01mprompt_utils\u001b[39;00m\u001b[38;5;250m \u001b[39m\u001b[38;5;28;01mimport\u001b[39;00m PromptBuilder\n\u001b[1;32m      3\u001b[0m \u001b[38;5;28;01mimport\u001b[39;00m\u001b[38;5;250m \u001b[39m\u001b[38;5;21;01mnumpy\u001b[39;00m\u001b[38;5;250m \u001b[39m\u001b[38;5;28;01mas\u001b[39;00m\u001b[38;5;250m \u001b[39m\u001b[38;5;21;01mnp\u001b[39;00m\n\u001b[1;32m      5\u001b[0m \u001b[38;5;28mprint\u001b[39m(\u001b[38;5;124m\"\u001b[39m\u001b[38;5;124m=== Testing Prompt Builder with Multiple Examples ===\u001b[39m\u001b[38;5;130;01m\\n\u001b[39;00m\u001b[38;5;124m\"\u001b[39m)\n",
      "\u001b[0;31mModuleNotFoundError\u001b[0m: No module named 'common'"
     ]
    }
   ],
   "source": [
    "# Test prompt builder with multiple examples\n",
    "from common.prompt_utils import PromptBuilder\n",
    "import numpy as np\n",
    "\n",
    "print(\"=== Testing Prompt Builder with Multiple Examples ===\\n\")\n",
    "\n",
    "for i in range(min(3, len(df))):  # Test first 3 problems\n",
    "    sample = df.iloc[i]\n",
    "    \n",
    "    # Get test cases\n",
    "    test_cases = sample.get('test_list', [])\n",
    "    \n",
    "    # Handle if test_cases is a numpy array or list\n",
    "    if isinstance(test_cases, np.ndarray):\n",
    "        test_cases = test_cases.tolist()\n",
    "    \n",
    "    if test_cases and len(test_cases) > 0:\n",
    "        test_cases_str = '\\n'.join(test_cases)\n",
    "    else:\n",
    "        test_cases_str = \"# No test cases provided\"\n",
    "    \n",
    "    # Build prompt\n",
    "    prompt = PromptBuilder.build_prompt(\n",
    "        problem_description=sample['text'],\n",
    "        test_cases=test_cases_str\n",
    "    )\n",
    "    \n",
    "    print(f\"Example {i+1}:\")\n",
    "    print(f\"Task ID: {sample['task_id']}\")\n",
    "    print(f\"Problem: {sample['text'][:100]}...\" if len(sample['text']) > 100 else sample['text'])\n",
    "    print(f\"\\nPrompt Generated:\")\n",
    "    print(\"```\")\n",
    "    print(prompt)\n",
    "    print(\"```\")\n",
    "    print(\"\\n\" + \"=\"*70 + \"\\n\")"
   ]
  },
  {
   "cell_type": "code",
   "execution_count": null,
   "metadata": {},
   "outputs": [],
   "source": []
  }
 ],
 "metadata": {
  "kernelspec": {
   "display_name": "pva_sae",
   "language": "python",
   "name": "python3"
  },
  "language_info": {
   "codemirror_mode": {
    "name": "ipython",
    "version": 3
   },
   "file_extension": ".py",
   "mimetype": "text/x-python",
   "name": "python",
   "nbconvert_exporter": "python",
   "pygments_lexer": "ipython3",
   "version": "3.10.16"
  }
 },
 "nbformat": 4,
 "nbformat_minor": 4
}
