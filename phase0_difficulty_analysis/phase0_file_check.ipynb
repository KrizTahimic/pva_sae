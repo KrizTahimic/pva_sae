{
 "cells": [
  {
   "cell_type": "code",
   "execution_count": 1,
   "id": "00e7fdc8",
   "metadata": {},
   "outputs": [],
   "source": [
    "import pandas as pd\n",
    "import os\n",
    "from pathlib import Path"
   ]
  },
  {
   "cell_type": "code",
   "id": "7c28f810",
   "metadata": {},
   "outputs": [],
   "source": "# Paste the parquet file path here, or leave empty to auto-find latest\nfile_path = \"\"  # Replace with your parquet file path, or leave empty for auto-discovery\n\n# Auto-discovery of latest dataset if file_path is empty\nif not file_path.strip():\n    import glob\n    \n    # Search for all MBPP difficulty mapping parquet files\n    datasets_dir = \"../data/phase0/\"\n    pattern = os.path.join(datasets_dir, \"*mbpp_difficulty_mapping_*.parquet\")\n    matching_files = glob.glob(pattern)\n    \n    if matching_files:\n        # Sort by modification time to get the latest file\n        latest_file = max(matching_files, key=os.path.getmtime)\n        file_path = latest_file\n        print(f\"🔍 Auto-discovered latest dataset: {Path(file_path).name}\")\n        print(f\"📅 Last modified: {pd.Timestamp.fromtimestamp(os.path.getmtime(file_path)).strftime('%Y-%m-%d %H:%M:%S')}\")\n    else:\n        raise FileNotFoundError(f\"No MBPP difficulty mapping files found in {datasets_dir}\")\nelse:\n    print(f\"📁 Using specified file: {Path(file_path).name}\")\n\n# Verify file exists\nif not os.path.exists(file_path):\n    raise FileNotFoundError(f\"File not found: {file_path}\")"
  },
  {
   "cell_type": "code",
   "execution_count": 3,
   "id": "85cdf668",
   "metadata": {},
   "outputs": [
    {
     "name": "stdout",
     "output_type": "stream",
     "text": [
      "Dataset Information:\n",
      "Number of records: 974\n",
      "Number of columns: 2\n",
      "Columns: ['task_id', 'cyclomatic_complexity']\n",
      "File size: 0.01 MB\n"
     ]
    }
   ],
   "source": [
    "# Load parquet file and display basic info\n",
    "df = pd.read_parquet(file_path)\n",
    "\n",
    "print(f\"Dataset Information:\")\n",
    "print(f\"Number of records: {len(df):,}\")\n",
    "print(f\"Number of columns: {len(df.columns)}\")\n",
    "print(f\"Columns: {list(df.columns)}\")\n",
    "print(f\"File size: {os.path.getsize(file_path) / (1024**2):.2f} MB\")"
   ]
  },
  {
   "cell_type": "code",
   "execution_count": 4,
   "id": "7f8142e3",
   "metadata": {},
   "outputs": [
    {
     "name": "stdout",
     "output_type": "stream",
     "text": [
      "Column Information:\n",
      "<class 'pandas.core.frame.DataFrame'>\n",
      "RangeIndex: 974 entries, 0 to 973\n",
      "Data columns (total 2 columns):\n",
      " #   Column                 Non-Null Count  Dtype \n",
      "---  ------                 --------------  ----- \n",
      " 0   task_id                974 non-null    object\n",
      " 1   cyclomatic_complexity  974 non-null    int64 \n",
      "dtypes: int64(1), object(1)\n",
      "memory usage: 15.3+ KB\n",
      "None\n",
      "\n",
      "Data types:\n",
      "task_id                  object\n",
      "cyclomatic_complexity     int64\n",
      "dtype: object\n"
     ]
    }
   ],
   "source": [
    "# Display column types and basic statistics\n",
    "print(\"Column Information:\")\n",
    "print(df.info())\n",
    "print(\"\\nData types:\")\n",
    "print(df.dtypes)"
   ]
  },
  {
   "cell_type": "code",
   "execution_count": 5,
   "id": "a3c6a371",
   "metadata": {},
   "outputs": [
    {
     "name": "stdout",
     "output_type": "stream",
     "text": [
      "First 10 records:\n"
     ]
    },
    {
     "data": {
      "text/html": [
       "<div>\n",
       "<style scoped>\n",
       "    .dataframe tbody tr th:only-of-type {\n",
       "        vertical-align: middle;\n",
       "    }\n",
       "\n",
       "    .dataframe tbody tr th {\n",
       "        vertical-align: top;\n",
       "    }\n",
       "\n",
       "    .dataframe thead th {\n",
       "        text-align: right;\n",
       "    }\n",
       "</style>\n",
       "<table border=\"1\" class=\"dataframe\">\n",
       "  <thead>\n",
       "    <tr style=\"text-align: right;\">\n",
       "      <th></th>\n",
       "      <th>task_id</th>\n",
       "      <th>cyclomatic_complexity</th>\n",
       "    </tr>\n",
       "  </thead>\n",
       "  <tbody>\n",
       "    <tr>\n",
       "      <th>0</th>\n",
       "      <td>1</td>\n",
       "      <td>7</td>\n",
       "    </tr>\n",
       "    <tr>\n",
       "      <th>1</th>\n",
       "      <td>2</td>\n",
       "      <td>1</td>\n",
       "    </tr>\n",
       "    <tr>\n",
       "      <th>2</th>\n",
       "      <td>3</td>\n",
       "      <td>3</td>\n",
       "    </tr>\n",
       "    <tr>\n",
       "      <th>3</th>\n",
       "      <td>4</td>\n",
       "      <td>1</td>\n",
       "    </tr>\n",
       "    <tr>\n",
       "      <th>4</th>\n",
       "      <td>5</td>\n",
       "      <td>2</td>\n",
       "    </tr>\n",
       "    <tr>\n",
       "      <th>5</th>\n",
       "      <td>6</td>\n",
       "      <td>2</td>\n",
       "    </tr>\n",
       "    <tr>\n",
       "      <th>6</th>\n",
       "      <td>7</td>\n",
       "      <td>1</td>\n",
       "    </tr>\n",
       "    <tr>\n",
       "      <th>7</th>\n",
       "      <td>8</td>\n",
       "      <td>1</td>\n",
       "    </tr>\n",
       "    <tr>\n",
       "      <th>8</th>\n",
       "      <td>9</td>\n",
       "      <td>3</td>\n",
       "    </tr>\n",
       "    <tr>\n",
       "      <th>9</th>\n",
       "      <td>10</td>\n",
       "      <td>1</td>\n",
       "    </tr>\n",
       "  </tbody>\n",
       "</table>\n",
       "</div>"
      ],
      "text/plain": [
       "  task_id  cyclomatic_complexity\n",
       "0       1                      7\n",
       "1       2                      1\n",
       "2       3                      3\n",
       "3       4                      1\n",
       "4       5                      2\n",
       "5       6                      2\n",
       "6       7                      1\n",
       "7       8                      1\n",
       "8       9                      3\n",
       "9      10                      1"
      ]
     },
     "execution_count": 5,
     "metadata": {},
     "output_type": "execute_result"
    }
   ],
   "source": [
    "# Display first 10 records in a clean table format\n",
    "print(\"First 10 records:\")\n",
    "df.head(10)"
   ]
  },
  {
   "cell_type": "code",
   "execution_count": 6,
   "id": "2fc941a1",
   "metadata": {},
   "outputs": [
    {
     "name": "stdout",
     "output_type": "stream",
     "text": [
      "============================================================\n",
      "MBPP DIFFICULTY MAPPING SUMMARY\n",
      "============================================================\n",
      "\n",
      "📊 DATASET OVERVIEW\n",
      "Total problems analyzed: 974\n",
      "Data source: mbpp_difficulty_mapping_20250608_175751.parquet\n",
      "Analysis timestamp: 2025-06-08 18:00:54\n",
      "\n",
      "🧮 COMPLEXITY STATISTICS\n",
      "Minimum complexity: 1\n",
      "Maximum complexity: 16\n",
      "Mean complexity: 2.84\n",
      "Median complexity: 2.0\n",
      "Standard deviation: 2.02\n",
      "\n",
      "📈 PERCENTILE DISTRIBUTION\n",
      "25th percentile: 1.0\n",
      "75th percentile: 4.0\n",
      "90th percentile: 5.0\n",
      "\n",
      "📋 COMPLEXITY DISTRIBUTION\n",
      "Complexity Level | Count | Percentage\n",
      "----------------------------------------\n",
      "            1 |   268 |    27.5%\n",
      "            2 |   250 |    25.7%\n",
      "            3 |   193 |    19.8%\n",
      "            4 |   121 |    12.4%\n",
      "            5 |    67 |     6.9%\n",
      "            6 |    22 |     2.3%\n",
      "            7 |    16 |     1.6%\n",
      "            8 |    13 |     1.3%\n",
      "            9 |    10 |     1.0%\n",
      "           10 |     4 |     0.4%\n",
      "... and 4 more complexity levels\n",
      "\n",
      "📝 METHODOLOGY NOTE\n",
      "Analysis uses cyclomatic complexity as the primary difficulty metric.\n",
      "This enables interleaved sampling based on complexity scores.\n"
     ]
    }
   ],
   "source": [
    "# Comprehensive Difficulty Summary Analysis\n",
    "import numpy as np\n",
    "from datetime import datetime\n",
    "\n",
    "print(\"=\" * 60)\n",
    "print(\"MBPP DIFFICULTY MAPPING SUMMARY\")\n",
    "print(\"=\" * 60)\n",
    "\n",
    "# Basic statistics\n",
    "total_problems = len(df)\n",
    "complexity_scores = df['cyclomatic_complexity'].values\n",
    "\n",
    "print(f\"\\n📊 DATASET OVERVIEW\")\n",
    "print(f\"Total problems analyzed: {total_problems:,}\")\n",
    "print(f\"Data source: {Path(file_path).name}\")\n",
    "print(f\"Analysis timestamp: {datetime.now().strftime('%Y-%m-%d %H:%M:%S')}\")\n",
    "\n",
    "print(f\"\\n🧮 COMPLEXITY STATISTICS\")\n",
    "print(f\"Minimum complexity: {complexity_scores.min()}\")\n",
    "print(f\"Maximum complexity: {complexity_scores.max()}\")\n",
    "print(f\"Mean complexity: {complexity_scores.mean():.2f}\")\n",
    "print(f\"Median complexity: {np.median(complexity_scores):.1f}\")\n",
    "print(f\"Standard deviation: {complexity_scores.std():.2f}\")\n",
    "\n",
    "print(f\"\\n📈 PERCENTILE DISTRIBUTION\")\n",
    "print(f\"25th percentile: {np.percentile(complexity_scores, 25):.1f}\")\n",
    "print(f\"75th percentile: {np.percentile(complexity_scores, 75):.1f}\")\n",
    "print(f\"90th percentile: {np.percentile(complexity_scores, 90):.1f}\")\n",
    "\n",
    "print(f\"\\n📋 COMPLEXITY DISTRIBUTION\")\n",
    "# Show distribution by complexity levels\n",
    "complexity_counts = df['cyclomatic_complexity'].value_counts().sort_index()\n",
    "print(\"Complexity Level | Count | Percentage\")\n",
    "print(\"-\" * 40)\n",
    "for complexity, count in complexity_counts.head(10).items():\n",
    "    percentage = (count / total_problems) * 100\n",
    "    print(f\"{complexity:>13} | {count:>5} | {percentage:>7.1f}%\")\n",
    "\n",
    "if len(complexity_counts) > 10:\n",
    "    remaining = len(complexity_counts) - 10\n",
    "    print(f\"... and {remaining} more complexity levels\")\n",
    "\n",
    "print(f\"\\n📝 METHODOLOGY NOTE\")\n",
    "print(\"Analysis uses cyclomatic complexity as the primary difficulty metric.\")\n",
    "print(\"This enables interleaved sampling based on complexity scores.\")"
   ]
  },
  {
   "cell_type": "code",
   "execution_count": null,
   "id": "5ba09fbb",
   "metadata": {},
   "outputs": [],
   "source": []
  }
 ],
 "metadata": {
  "kernelspec": {
   "display_name": "pva_sae",
   "language": "python",
   "name": "python3"
  },
  "language_info": {
   "codemirror_mode": {
    "name": "ipython",
    "version": 3
   },
   "file_extension": ".py",
   "mimetype": "text/x-python",
   "name": "python",
   "nbconvert_exporter": "python",
   "pygments_lexer": "ipython3",
   "version": "3.10.16"
  }
 },
 "nbformat": 4,
 "nbformat_minor": 5
}