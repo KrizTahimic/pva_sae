{
 "cells": [
  {
   "cell_type": "markdown",
   "metadata": {},
   "source": [
    "# Phase 0.1 Split Inspection (Simple Version)\n",
    "\n",
    "A simpler approach that changes to the project root directory first."
   ]
  },
  {
   "cell_type": "code",
   "execution_count": 9,
   "metadata": {},
   "outputs": [
    {
     "name": "stdout",
     "output_type": "stream",
     "text": [
      "Already in: /Users/krizroycetahimic/Documents/Thesis/Code/pva_sae\n"
     ]
    }
   ],
   "source": [
    "# Setup and change to project root\n",
    "import os\n",
    "import pandas as pd\n",
    "import json\n",
    "from pathlib import Path\n",
    "from IPython.display import display, Markdown\n",
    "\n",
    "# Change to project root if we're in a subdirectory\n",
    "current_dir = os.getcwd()\n",
    "if 'phase0_1_problem_splitting' in current_dir:\n",
    "    os.chdir('..')\n",
    "    print(f\"Changed from: {current_dir}\")\n",
    "    print(f\"Changed to: {os.getcwd()}\")\n",
    "else:\n",
    "    print(f\"Already in: {current_dir}\")\n",
    "\n",
    "# Configure pandas display\n",
    "pd.set_option('display.max_columns', None)\n",
    "pd.set_option('display.max_colwidth', 150)\n",
    "pd.set_option('display.width', None)\n",
    "\n",
    "# Helper function to truncate text\n",
    "def truncate_text(text, max_length=150):\n",
    "    \"\"\"Truncate text to max_length characters\"\"\"\n",
    "    if isinstance(text, str) and len(text) > max_length:\n",
    "        return text[:max_length] + '...'\n",
    "    return text"
   ]
  },
  {
   "cell_type": "code",
   "execution_count": 10,
   "metadata": {},
   "outputs": [
    {
     "name": "stdout",
     "output_type": "stream",
     "text": [
      "Looking in: /Users/krizroycetahimic/Documents/Thesis/Code/pva_sae/data/phase0_1\n",
      "\n",
      "Files in phase0_1 directory:\n",
      "  - split_metadata.json\n",
      "  - hyperparams_mbpp.parquet\n",
      "  - timestamp.txt\n",
      "  - validation_mbpp.parquet\n",
      "  - sae_mbpp.parquet\n",
      "\n"
     ]
    },
    {
     "data": {
      "text/markdown": [
       "## SAE Split"
      ],
      "text/plain": [
       "<IPython.core.display.Markdown object>"
      ]
     },
     "metadata": {},
     "output_type": "display_data"
    },
    {
     "name": "stdout",
     "output_type": "stream",
     "text": [
      "**File:** sae_mbpp.parquet\n",
      "**Total records:** 489\n",
      "**Complexity:** mean=2.73, std=1.90\n",
      "\n"
     ]
    },
    {
     "data": {
      "text/markdown": [
       "### First 3 Records (All Columns):"
      ],
      "text/plain": [
       "<IPython.core.display.Markdown object>"
      ]
     },
     "metadata": {},
     "output_type": "display_data"
    },
    {
     "data": {
      "text/html": [
       "<div>\n",
       "<style scoped>\n",
       "    .dataframe tbody tr th:only-of-type {\n",
       "        vertical-align: middle;\n",
       "    }\n",
       "\n",
       "    .dataframe tbody tr th {\n",
       "        vertical-align: top;\n",
       "    }\n",
       "\n",
       "    .dataframe thead th {\n",
       "        text-align: right;\n",
       "    }\n",
       "</style>\n",
       "<table border=\"1\" class=\"dataframe\">\n",
       "  <thead>\n",
       "    <tr style=\"text-align: right;\">\n",
       "      <th></th>\n",
       "      <th>task_id</th>\n",
       "      <th>text</th>\n",
       "      <th>code</th>\n",
       "      <th>test_list</th>\n",
       "      <th>cyclomatic_complexity</th>\n",
       "    </tr>\n",
       "  </thead>\n",
       "  <tbody>\n",
       "    <tr>\n",
       "      <th>0</th>\n",
       "      <td>2</td>\n",
       "      <td>Write a function to find the similar elements from the given two tuple lists.</td>\n",
       "      <td>def similar_elements(test_tup1, test_tup2):\\r\\n  res = tuple(set(test_tup1) &amp; set(test_tup2))\\r\\n  return (res)</td>\n",
       "      <td>['assert similar_elements((3, 4, 5, 6),(5, 7, 4, 10)) == (4, 5)'\\n 'assert similar_elements((1, 2, 3, 4),(5, 4, 3, 7)) == (3, 4)'\\n 'assert simila...</td>\n",
       "      <td>1</td>\n",
       "    </tr>\n",
       "    <tr>\n",
       "      <th>1</th>\n",
       "      <td>3</td>\n",
       "      <td>Write a python function to identify non-prime numbers.</td>\n",
       "      <td>import math\\r\\ndef is_not_prime(n):\\r\\n    result = False\\r\\n    for i in range(2,int(math.sqrt(n)) + 1):\\r\\n        if n % i == 0:\\r\\n           ...</td>\n",
       "      <td>['assert is_not_prime(2) == False' 'assert is_not_prime(10) == True'\\n 'assert is_not_prime(35) == True']</td>\n",
       "      <td>3</td>\n",
       "    </tr>\n",
       "    <tr>\n",
       "      <th>2</th>\n",
       "      <td>4</td>\n",
       "      <td>Write a function to find the largest integers from a given list of numbers using heap queue algorithm.</td>\n",
       "      <td>import heapq as hq\\r\\ndef heap_queue_largest(nums,n):\\r\\n  largest_nums = hq.nlargest(n, nums)\\r\\n  return largest_nums</td>\n",
       "      <td>['assert heap_queue_largest( [25, 35, 22, 85, 14, 65, 75, 22, 58],3)==[85, 75, 65] '\\n 'assert heap_queue_largest( [25, 35, 22, 85, 14, 65, 75, 22...</td>\n",
       "      <td>1</td>\n",
       "    </tr>\n",
       "  </tbody>\n",
       "</table>\n",
       "</div>"
      ],
      "text/plain": [
       "   task_id  \\\n",
       "0        2   \n",
       "1        3   \n",
       "2        4   \n",
       "\n",
       "                                                                                                     text  \\\n",
       "0                           Write a function to find the similar elements from the given two tuple lists.   \n",
       "1                                                  Write a python function to identify non-prime numbers.   \n",
       "2  Write a function to find the largest integers from a given list of numbers using heap queue algorithm.   \n",
       "\n",
       "                                                                                                                                                    code  \\\n",
       "0                                       def similar_elements(test_tup1, test_tup2):\\r\\n  res = tuple(set(test_tup1) & set(test_tup2))\\r\\n  return (res)    \n",
       "1  import math\\r\\ndef is_not_prime(n):\\r\\n    result = False\\r\\n    for i in range(2,int(math.sqrt(n)) + 1):\\r\\n        if n % i == 0:\\r\\n           ...   \n",
       "2                                import heapq as hq\\r\\ndef heap_queue_largest(nums,n):\\r\\n  largest_nums = hq.nlargest(n, nums)\\r\\n  return largest_nums   \n",
       "\n",
       "                                                                                                                                               test_list  \\\n",
       "0  ['assert similar_elements((3, 4, 5, 6),(5, 7, 4, 10)) == (4, 5)'\\n 'assert similar_elements((1, 2, 3, 4),(5, 4, 3, 7)) == (3, 4)'\\n 'assert simila...   \n",
       "1                                              ['assert is_not_prime(2) == False' 'assert is_not_prime(10) == True'\\n 'assert is_not_prime(35) == True']   \n",
       "2  ['assert heap_queue_largest( [25, 35, 22, 85, 14, 65, 75, 22, 58],3)==[85, 75, 65] '\\n 'assert heap_queue_largest( [25, 35, 22, 85, 14, 65, 75, 22...   \n",
       "\n",
       "   cyclomatic_complexity  \n",
       "0                      1  \n",
       "1                      3  \n",
       "2                      1  "
      ]
     },
     "metadata": {},
     "output_type": "display_data"
    },
    {
     "name": "stdout",
     "output_type": "stream",
     "text": [
      "\n"
     ]
    },
    {
     "data": {
      "text/markdown": [
       "## Hyperparameters Split"
      ],
      "text/plain": [
       "<IPython.core.display.Markdown object>"
      ]
     },
     "metadata": {},
     "output_type": "display_data"
    },
    {
     "name": "stdout",
     "output_type": "stream",
     "text": [
      "**File:** hyperparams_mbpp.parquet\n",
      "**Total records:** 97\n",
      "**Complexity:** mean=3.38, std=2.04\n",
      "\n"
     ]
    },
    {
     "data": {
      "text/markdown": [
       "### First 3 Records (All Columns):"
      ],
      "text/plain": [
       "<IPython.core.display.Markdown object>"
      ]
     },
     "metadata": {},
     "output_type": "display_data"
    },
    {
     "data": {
      "text/html": [
       "<div>\n",
       "<style scoped>\n",
       "    .dataframe tbody tr th:only-of-type {\n",
       "        vertical-align: middle;\n",
       "    }\n",
       "\n",
       "    .dataframe tbody tr th {\n",
       "        vertical-align: top;\n",
       "    }\n",
       "\n",
       "    .dataframe thead th {\n",
       "        text-align: right;\n",
       "    }\n",
       "</style>\n",
       "<table border=\"1\" class=\"dataframe\">\n",
       "  <thead>\n",
       "    <tr style=\"text-align: right;\">\n",
       "      <th></th>\n",
       "      <th>task_id</th>\n",
       "      <th>text</th>\n",
       "      <th>code</th>\n",
       "      <th>test_list</th>\n",
       "      <th>cyclomatic_complexity</th>\n",
       "    </tr>\n",
       "  </thead>\n",
       "  <tbody>\n",
       "    <tr>\n",
       "      <th>0</th>\n",
       "      <td>28</td>\n",
       "      <td>Write a python function to find binomial co-efficient.</td>\n",
       "      <td>def binomial_Coeff(n,k): \\r\\n    if k &gt; n : \\r\\n       return 0\\r\\n    if k==0 or k ==n : \\r\\n        return 1 \\r\\n    return binomial_Coeff(n-1,k...</td>\n",
       "      <td>['assert binomial_Coeff(5,2) == 10' 'assert binomial_Coeff(4,3) == 4'\\n 'assert binomial_Coeff(3,2) == 3']</td>\n",
       "      <td>4</td>\n",
       "    </tr>\n",
       "    <tr>\n",
       "      <th>1</th>\n",
       "      <td>42</td>\n",
       "      <td>Write a python function to find the sum of repeated elements in a given array.</td>\n",
       "      <td>def find_Sum(arr,n): \\r\\n    return sum([x for x in arr if arr.count(x) &gt; 1])</td>\n",
       "      <td>['assert find_Sum([1,2,3,1,1,4,5,6],8) == 3'\\n 'assert find_Sum([1,2,3,1,1],5) == 3' 'assert find_Sum([1,1,2],3) == 2']</td>\n",
       "      <td>3</td>\n",
       "    </tr>\n",
       "    <tr>\n",
       "      <th>2</th>\n",
       "      <td>53</td>\n",
       "      <td>Write a python function to check whether the first and last characters of a given string are equal or not.</td>\n",
       "      <td>def check_Equality(str):\\r\\n  if (str[0] == str[-1]):  \\r\\n    return (\"Equal\") \\r\\n  else:  \\r\\n    return (\"Not Equal\")</td>\n",
       "      <td>['assert check_Equality(\"abcda\") == \"Equal\"'\\n 'assert check_Equality(\"ab\") == \"Not Equal\"'\\n 'assert check_Equality(\"mad\") == \"Not Equal\"']</td>\n",
       "      <td>2</td>\n",
       "    </tr>\n",
       "  </tbody>\n",
       "</table>\n",
       "</div>"
      ],
      "text/plain": [
       "   task_id  \\\n",
       "0       28   \n",
       "1       42   \n",
       "2       53   \n",
       "\n",
       "                                                                                                         text  \\\n",
       "0                                                      Write a python function to find binomial co-efficient.   \n",
       "1                              Write a python function to find the sum of repeated elements in a given array.   \n",
       "2  Write a python function to check whether the first and last characters of a given string are equal or not.   \n",
       "\n",
       "                                                                                                                                                    code  \\\n",
       "0  def binomial_Coeff(n,k): \\r\\n    if k > n : \\r\\n       return 0\\r\\n    if k==0 or k ==n : \\r\\n        return 1 \\r\\n    return binomial_Coeff(n-1,k...   \n",
       "1                                                                          def find_Sum(arr,n): \\r\\n    return sum([x for x in arr if arr.count(x) > 1])   \n",
       "2                             def check_Equality(str):\\r\\n  if (str[0] == str[-1]):  \\r\\n    return (\"Equal\") \\r\\n  else:  \\r\\n    return (\"Not Equal\")    \n",
       "\n",
       "                                                                                                                                      test_list  \\\n",
       "0                                    ['assert binomial_Coeff(5,2) == 10' 'assert binomial_Coeff(4,3) == 4'\\n 'assert binomial_Coeff(3,2) == 3']   \n",
       "1                       ['assert find_Sum([1,2,3,1,1,4,5,6],8) == 3'\\n 'assert find_Sum([1,2,3,1,1],5) == 3' 'assert find_Sum([1,1,2],3) == 2']   \n",
       "2  ['assert check_Equality(\"abcda\") == \"Equal\"'\\n 'assert check_Equality(\"ab\") == \"Not Equal\"'\\n 'assert check_Equality(\"mad\") == \"Not Equal\"']   \n",
       "\n",
       "   cyclomatic_complexity  \n",
       "0                      4  \n",
       "1                      3  \n",
       "2                      2  "
      ]
     },
     "metadata": {},
     "output_type": "display_data"
    },
    {
     "name": "stdout",
     "output_type": "stream",
     "text": [
      "\n"
     ]
    },
    {
     "data": {
      "text/markdown": [
       "## Validation Split"
      ],
      "text/plain": [
       "<IPython.core.display.Markdown object>"
      ]
     },
     "metadata": {},
     "output_type": "display_data"
    },
    {
     "name": "stdout",
     "output_type": "stream",
     "text": [
      "**File:** validation_mbpp.parquet\n",
      "**Total records:** 388\n",
      "**Complexity:** mean=2.86, std=2.15\n",
      "\n"
     ]
    },
    {
     "data": {
      "text/markdown": [
       "### First 3 Records (All Columns):"
      ],
      "text/plain": [
       "<IPython.core.display.Markdown object>"
      ]
     },
     "metadata": {},
     "output_type": "display_data"
    },
    {
     "data": {
      "text/html": [
       "<div>\n",
       "<style scoped>\n",
       "    .dataframe tbody tr th:only-of-type {\n",
       "        vertical-align: middle;\n",
       "    }\n",
       "\n",
       "    .dataframe tbody tr th {\n",
       "        vertical-align: top;\n",
       "    }\n",
       "\n",
       "    .dataframe thead th {\n",
       "        text-align: right;\n",
       "    }\n",
       "</style>\n",
       "<table border=\"1\" class=\"dataframe\">\n",
       "  <thead>\n",
       "    <tr style=\"text-align: right;\">\n",
       "      <th></th>\n",
       "      <th>task_id</th>\n",
       "      <th>text</th>\n",
       "      <th>code</th>\n",
       "      <th>test_list</th>\n",
       "      <th>cyclomatic_complexity</th>\n",
       "    </tr>\n",
       "  </thead>\n",
       "  <tbody>\n",
       "    <tr>\n",
       "      <th>0</th>\n",
       "      <td>1</td>\n",
       "      <td>Write a function to find the minimum cost path to reach (m, n) from (0, 0) for the given cost matrix cost[][] and a position (m, n) in cost[][].</td>\n",
       "      <td>R = 3\\r\\nC = 3\\r\\ndef min_cost(cost, m, n): \\r\\n\\ttc = [[0 for x in range(C)] for x in range(R)] \\r\\n\\ttc[0][0] = cost[0][0] \\r\\n\\tfor i in range(...</td>\n",
       "      <td>['assert min_cost([[1, 2, 3], [4, 8, 2], [1, 5, 3]], 2, 2) == 8'\\n 'assert min_cost([[2, 3, 4], [5, 9, 3], [2, 6, 4]], 2, 2) == 12'\\n 'assert min_...</td>\n",
       "      <td>7</td>\n",
       "    </tr>\n",
       "    <tr>\n",
       "      <th>1</th>\n",
       "      <td>5</td>\n",
       "      <td>Write a function to find the number of ways to fill it with 2 x 1 dominoes for the given 3 x n board.</td>\n",
       "      <td>def count_ways(n): \\r\\n\\tA = [0] * (n + 1) \\r\\n\\tB = [0] * (n + 1) \\r\\n\\tA[0] = 1\\r\\n\\tA[1] = 0\\r\\n\\tB[0] = 0\\r\\n\\tB[1] = 1\\r\\n\\tfor i in range(2,...</td>\n",
       "      <td>['assert count_ways(2) == 3' 'assert count_ways(8) == 153'\\n 'assert count_ways(12) == 2131']</td>\n",
       "      <td>2</td>\n",
       "    </tr>\n",
       "    <tr>\n",
       "      <th>2</th>\n",
       "      <td>8</td>\n",
       "      <td>Write a function to find squares of individual elements in a list using lambda function.</td>\n",
       "      <td>def square_nums(nums):\\r\\n square_nums = list(map(lambda x: x ** 2, nums))\\r\\n return square_nums</td>\n",
       "      <td>['assert square_nums([1, 2, 3, 4, 5, 6, 7, 8, 9, 10])==[1, 4, 9, 16, 25, 36, 49, 64, 81, 100]'\\n 'assert square_nums([10,20,30])==([100,400,900])'...</td>\n",
       "      <td>1</td>\n",
       "    </tr>\n",
       "  </tbody>\n",
       "</table>\n",
       "</div>"
      ],
      "text/plain": [
       "   task_id  \\\n",
       "0        1   \n",
       "1        5   \n",
       "2        8   \n",
       "\n",
       "                                                                                                                                               text  \\\n",
       "0  Write a function to find the minimum cost path to reach (m, n) from (0, 0) for the given cost matrix cost[][] and a position (m, n) in cost[][].   \n",
       "1                                             Write a function to find the number of ways to fill it with 2 x 1 dominoes for the given 3 x n board.   \n",
       "2                                                          Write a function to find squares of individual elements in a list using lambda function.   \n",
       "\n",
       "                                                                                                                                                    code  \\\n",
       "0  R = 3\\r\\nC = 3\\r\\ndef min_cost(cost, m, n): \\r\\n\\ttc = [[0 for x in range(C)] for x in range(R)] \\r\\n\\ttc[0][0] = cost[0][0] \\r\\n\\tfor i in range(...   \n",
       "1  def count_ways(n): \\r\\n\\tA = [0] * (n + 1) \\r\\n\\tB = [0] * (n + 1) \\r\\n\\tA[0] = 1\\r\\n\\tA[1] = 0\\r\\n\\tB[0] = 0\\r\\n\\tB[1] = 1\\r\\n\\tfor i in range(2,...   \n",
       "2                                                      def square_nums(nums):\\r\\n square_nums = list(map(lambda x: x ** 2, nums))\\r\\n return square_nums   \n",
       "\n",
       "                                                                                                                                               test_list  \\\n",
       "0  ['assert min_cost([[1, 2, 3], [4, 8, 2], [1, 5, 3]], 2, 2) == 8'\\n 'assert min_cost([[2, 3, 4], [5, 9, 3], [2, 6, 4]], 2, 2) == 12'\\n 'assert min_...   \n",
       "1                                                          ['assert count_ways(2) == 3' 'assert count_ways(8) == 153'\\n 'assert count_ways(12) == 2131']   \n",
       "2  ['assert square_nums([1, 2, 3, 4, 5, 6, 7, 8, 9, 10])==[1, 4, 9, 16, 25, 36, 49, 64, 81, 100]'\\n 'assert square_nums([10,20,30])==([100,400,900])'...   \n",
       "\n",
       "   cyclomatic_complexity  \n",
       "0                      7  \n",
       "1                      2  \n",
       "2                      1  "
      ]
     },
     "metadata": {},
     "output_type": "display_data"
    },
    {
     "name": "stdout",
     "output_type": "stream",
     "text": [
      "\n"
     ]
    }
   ],
   "source": [
    "# Load and display splits\n",
    "phase0_1_dir = Path('data/phase0_1')\n",
    "print(f\"Looking in: {phase0_1_dir.absolute()}\\n\")\n",
    "\n",
    "split_files = {\n",
    "    'SAE': 'sae_mbpp.parquet',\n",
    "    'Hyperparameters': 'hyperparams_mbpp.parquet',\n",
    "    'Validation': 'validation_mbpp.parquet'\n",
    "}\n",
    "\n",
    "# Check what files exist\n",
    "if phase0_1_dir.exists():\n",
    "    print(\"Files in phase0_1 directory:\")\n",
    "    for f in phase0_1_dir.iterdir():\n",
    "        print(f\"  - {f.name}\")\n",
    "    print()\n",
    "\n",
    "# Store summary data for comparison\n",
    "summary_data = []\n",
    "\n",
    "# Load each split\n",
    "for split_name, filename in split_files.items():\n",
    "    file_path = phase0_1_dir / filename\n",
    "    \n",
    "    if file_path.exists():\n",
    "        display(Markdown(f\"## {split_name} Split\"))\n",
    "        \n",
    "        df = pd.read_parquet(file_path)\n",
    "        print(f\"**File:** {filename}\")\n",
    "        print(f\"**Total records:** {len(df)}\")\n",
    "        \n",
    "        # Calculate and store summary statistics\n",
    "        if 'cyclomatic_complexity' in df.columns:\n",
    "            complexity_stats = df['cyclomatic_complexity'].describe()\n",
    "            summary_data.append({\n",
    "                'Split': split_name,\n",
    "                'Count': len(df),\n",
    "                'Mean Complexity': complexity_stats['mean'],\n",
    "                'Std Complexity': complexity_stats['std'],\n",
    "                'Min Complexity': complexity_stats['min'],\n",
    "                'Max Complexity': complexity_stats['max']\n",
    "            })\n",
    "            print(f\"**Complexity:** mean={complexity_stats['mean']:.2f}, std={complexity_stats['std']:.2f}\\n\")\n",
    "        \n",
    "        # Display first 3 records with ALL columns\n",
    "        display_df = df.head(3).copy()\n",
    "        \n",
    "        # Truncate long text columns for better display\n",
    "        text_columns = ['text', 'code', 'test_list']\n",
    "        for col in text_columns:\n",
    "            if col in display_df.columns:\n",
    "                display_df[col] = display_df[col].apply(lambda x: truncate_text(str(x), 150))\n",
    "        \n",
    "        display(Markdown(\"### First 3 Records (All Columns):\"))\n",
    "        display(display_df)\n",
    "        print()  # Add spacing\n",
    "    else:\n",
    "        print(f\"\\n✗ {split_name} split not found: {filename}\")"
   ]
  },
  {
   "cell_type": "code",
   "execution_count": 11,
   "metadata": {},
   "outputs": [
    {
     "data": {
      "text/markdown": [
       "## Available Columns"
      ],
      "text/plain": [
       "<IPython.core.display.Markdown object>"
      ]
     },
     "metadata": {},
     "output_type": "display_data"
    },
    {
     "name": "stdout",
     "output_type": "stream",
     "text": [
      "Columns from SAE split:\n"
     ]
    },
    {
     "data": {
      "text/html": [
       "<div>\n",
       "<style scoped>\n",
       "    .dataframe tbody tr th:only-of-type {\n",
       "        vertical-align: middle;\n",
       "    }\n",
       "\n",
       "    .dataframe tbody tr th {\n",
       "        vertical-align: top;\n",
       "    }\n",
       "\n",
       "    .dataframe thead th {\n",
       "        text-align: right;\n",
       "    }\n",
       "</style>\n",
       "<table border=\"1\" class=\"dataframe\">\n",
       "  <thead>\n",
       "    <tr style=\"text-align: right;\">\n",
       "      <th></th>\n",
       "      <th>Column</th>\n",
       "      <th>Type</th>\n",
       "      <th>Non-Null Count</th>\n",
       "      <th>Sample Value</th>\n",
       "    </tr>\n",
       "  </thead>\n",
       "  <tbody>\n",
       "    <tr>\n",
       "      <th>0</th>\n",
       "      <td>task_id</td>\n",
       "      <td>int64</td>\n",
       "      <td>489</td>\n",
       "      <td>2</td>\n",
       "    </tr>\n",
       "    <tr>\n",
       "      <th>1</th>\n",
       "      <td>text</td>\n",
       "      <td>object</td>\n",
       "      <td>489</td>\n",
       "      <td>Write a function to find the similar elements from...</td>\n",
       "    </tr>\n",
       "    <tr>\n",
       "      <th>2</th>\n",
       "      <td>code</td>\n",
       "      <td>object</td>\n",
       "      <td>489</td>\n",
       "      <td>def similar_elements(test_tup1, test_tup2):\\r\\n  res...</td>\n",
       "    </tr>\n",
       "    <tr>\n",
       "      <th>3</th>\n",
       "      <td>test_list</td>\n",
       "      <td>object</td>\n",
       "      <td>489</td>\n",
       "      <td>['assert similar_elements((3, 4, 5, 6),(5, 7, 4, 1...</td>\n",
       "    </tr>\n",
       "    <tr>\n",
       "      <th>4</th>\n",
       "      <td>cyclomatic_complexity</td>\n",
       "      <td>int64</td>\n",
       "      <td>489</td>\n",
       "      <td>1</td>\n",
       "    </tr>\n",
       "  </tbody>\n",
       "</table>\n",
       "</div>"
      ],
      "text/plain": [
       "                  Column    Type  Non-Null Count  \\\n",
       "0                task_id   int64             489   \n",
       "1                   text  object             489   \n",
       "2                   code  object             489   \n",
       "3              test_list  object             489   \n",
       "4  cyclomatic_complexity   int64             489   \n",
       "\n",
       "                                              Sample Value  \n",
       "0                                                        2  \n",
       "1    Write a function to find the similar elements from...  \n",
       "2  def similar_elements(test_tup1, test_tup2):\\r\\n  res...  \n",
       "3    ['assert similar_elements((3, 4, 5, 6),(5, 7, 4, 1...  \n",
       "4                                                        1  "
      ]
     },
     "metadata": {},
     "output_type": "display_data"
    }
   ],
   "source": [
    "# Show all available columns from one split\n",
    "display(Markdown(\"## Available Columns\"))\n",
    "\n",
    "# Use the first available split to show column information\n",
    "if split_files:\n",
    "    for split_name, filename in split_files.items():\n",
    "        file_path = phase0_1_dir / filename\n",
    "        if file_path.exists():\n",
    "            df = pd.read_parquet(file_path)\n",
    "            \n",
    "            # Create column info DataFrame\n",
    "            col_info = pd.DataFrame({\n",
    "                'Column': df.columns,\n",
    "                'Type': [str(df[col].dtype) for col in df.columns],\n",
    "                'Non-Null Count': [df[col].notna().sum() for col in df.columns],\n",
    "                'Sample Value': [str(df[col].iloc[0])[:50] + '...' if len(str(df[col].iloc[0])) > 50 else str(df[col].iloc[0]) for col in df.columns]\n",
    "            })\n",
    "            \n",
    "            print(f\"Columns from {split_name} split:\")\n",
    "            display(col_info)\n",
    "            break"
   ]
  },
  {
   "cell_type": "code",
   "execution_count": 8,
   "metadata": {},
   "outputs": [
    {
     "data": {
      "text/markdown": [
       "## Metadata Summary"
      ],
      "text/plain": [
       "<IPython.core.display.Markdown object>"
      ]
     },
     "metadata": {},
     "output_type": "display_data"
    },
    {
     "name": "stdout",
     "output_type": "stream",
     "text": [
      "Total problems: 974\n",
      "Complexity range: [1.00, 16.00]\n",
      "Creation timestamp: 2025-06-16T11:32:36.163698\n",
      "\n"
     ]
    },
    {
     "data": {
      "text/html": [
       "<div>\n",
       "<style scoped>\n",
       "    .dataframe tbody tr th:only-of-type {\n",
       "        vertical-align: middle;\n",
       "    }\n",
       "\n",
       "    .dataframe tbody tr th {\n",
       "        vertical-align: top;\n",
       "    }\n",
       "\n",
       "    .dataframe thead th {\n",
       "        text-align: right;\n",
       "    }\n",
       "</style>\n",
       "<table border=\"1\" class=\"dataframe\">\n",
       "  <thead>\n",
       "    <tr style=\"text-align: right;\">\n",
       "      <th></th>\n",
       "      <th>Split</th>\n",
       "      <th>Size</th>\n",
       "      <th>Ratio (%)</th>\n",
       "      <th>Complexity Mean</th>\n",
       "      <th>Complexity Std</th>\n",
       "      <th>Complexity Min</th>\n",
       "      <th>Complexity Max</th>\n",
       "    </tr>\n",
       "  </thead>\n",
       "  <tbody>\n",
       "    <tr>\n",
       "      <th>0</th>\n",
       "      <td>sae</td>\n",
       "      <td>489</td>\n",
       "      <td>50.2</td>\n",
       "      <td>2.728016</td>\n",
       "      <td>1.898460</td>\n",
       "      <td>1.0</td>\n",
       "      <td>12.0</td>\n",
       "    </tr>\n",
       "    <tr>\n",
       "      <th>1</th>\n",
       "      <td>hyperparams</td>\n",
       "      <td>97</td>\n",
       "      <td>10.0</td>\n",
       "      <td>3.381443</td>\n",
       "      <td>2.043502</td>\n",
       "      <td>1.0</td>\n",
       "      <td>12.0</td>\n",
       "    </tr>\n",
       "    <tr>\n",
       "      <th>2</th>\n",
       "      <td>validation</td>\n",
       "      <td>388</td>\n",
       "      <td>39.8</td>\n",
       "      <td>2.855670</td>\n",
       "      <td>2.145795</td>\n",
       "      <td>1.0</td>\n",
       "      <td>16.0</td>\n",
       "    </tr>\n",
       "  </tbody>\n",
       "</table>\n",
       "</div>"
      ],
      "text/plain": [
       "         Split  Size Ratio (%)  Complexity Mean  Complexity Std  \\\n",
       "0          sae   489      50.2         2.728016        1.898460   \n",
       "1  hyperparams    97      10.0         3.381443        2.043502   \n",
       "2   validation   388      39.8         2.855670        2.145795   \n",
       "\n",
       "   Complexity Min  Complexity Max  \n",
       "0             1.0            12.0  \n",
       "1             1.0            12.0  \n",
       "2             1.0            16.0  "
      ]
     },
     "metadata": {},
     "output_type": "display_data"
    }
   ],
   "source": [
    "# Load and display metadata\n",
    "metadata_file = phase0_1_dir / 'split_metadata.json'\n",
    "if metadata_file.exists():\n",
    "    with open(metadata_file, 'r') as f:\n",
    "        metadata = json.load(f)\n",
    "    \n",
    "    display(Markdown(\"## Metadata Summary\"))\n",
    "    \n",
    "    # Create metadata summary DataFrame\n",
    "    metadata_rows = []\n",
    "    for split, size in metadata['split_sizes'].items():\n",
    "        ratio = metadata['split_ratios'][split]\n",
    "        stats = metadata['split_complexity_stats'][split]\n",
    "        metadata_rows.append({\n",
    "            'Split': split,\n",
    "            'Size': size,\n",
    "            'Ratio (%)': f\"{ratio*100:.1f}\",\n",
    "            'Complexity Mean': stats['mean'],\n",
    "            'Complexity Std': stats['std'],\n",
    "            'Complexity Min': stats['min'],\n",
    "            'Complexity Max': stats['max']\n",
    "        })\n",
    "    \n",
    "    metadata_df = pd.DataFrame(metadata_rows)\n",
    "    print(f\"Total problems: {metadata['total_problems']}\")\n",
    "    print(f\"Complexity range: [{metadata['complexity_range'][0]:.2f}, {metadata['complexity_range'][1]:.2f}]\")\n",
    "    print(f\"Creation timestamp: {metadata['creation_timestamp']}\\n\")\n",
    "    \n",
    "    display(metadata_df)"
   ]
  },
  {
   "cell_type": "code",
   "execution_count": null,
   "metadata": {},
   "outputs": [],
   "source": []
  }
 ],
 "metadata": {
  "kernelspec": {
   "display_name": "pva_sae",
   "language": "python",
   "name": "python3"
  },
  "language_info": {
   "codemirror_mode": {
    "name": "ipython",
    "version": 3
   },
   "file_extension": ".py",
   "mimetype": "text/x-python",
   "name": "python",
   "nbconvert_exporter": "python",
   "pygments_lexer": "ipython3",
   "version": "3.10.16"
  }
 },
 "nbformat": 4,
 "nbformat_minor": 4
}
