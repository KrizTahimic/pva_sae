{
 "cells": [
  {
   "cell_type": "code",
   "execution_count": 1,
   "metadata": {},
   "outputs": [
    {
     "ename": "FileNotFoundError",
     "evalue": "No steering coefficient parquet files found in ../data/phase4_5/",
     "output_type": "error",
     "traceback": [
      "\u001b[0;31m---------------------------------------------------------------------------\u001b[0m",
      "\u001b[0;31mFileNotFoundError\u001b[0m                         Traceback (most recent call last)",
      "Cell \u001b[0;32mIn[1], line 18\u001b[0m\n\u001b[1;32m     16\u001b[0m         \u001b[38;5;28mprint\u001b[39m(\u001b[38;5;124mf\u001b[39m\u001b[38;5;124m\"\u001b[39m\u001b[38;5;124m  📁 \u001b[39m\u001b[38;5;132;01m{\u001b[39;00mPath(file)\u001b[38;5;241m.\u001b[39mname\u001b[38;5;132;01m}\u001b[39;00m\u001b[38;5;124m\"\u001b[39m)\n\u001b[1;32m     17\u001b[0m \u001b[38;5;28;01melse\u001b[39;00m:\n\u001b[0;32m---> 18\u001b[0m     \u001b[38;5;28;01mraise\u001b[39;00m \u001b[38;5;167;01mFileNotFoundError\u001b[39;00m(\u001b[38;5;124mf\u001b[39m\u001b[38;5;124m\"\u001b[39m\u001b[38;5;124mNo steering coefficient parquet files found in \u001b[39m\u001b[38;5;132;01m{\u001b[39;00mdatasets_dir\u001b[38;5;132;01m}\u001b[39;00m\u001b[38;5;124m\"\u001b[39m)\n",
      "\u001b[0;31mFileNotFoundError\u001b[0m: No steering coefficient parquet files found in ../data/phase4_5/"
     ]
    }
   ],
   "source": [
    "import pandas as pd\n",
    "import os\n",
    "from pathlib import Path\n",
    "import glob\n",
    "\n",
    "# Auto-discovery of Phase 4.5 steering coefficient data\n",
    "datasets_dir = \"../data/phase4_5/\"\n",
    "pattern = os.path.join(datasets_dir, \"*.parquet\")\n",
    "matching_files = glob.glob(pattern)\n",
    "\n",
    "if matching_files:\n",
    "    # Sort by filename for consistent ordering\n",
    "    matching_files.sort()\n",
    "    print(f\"🔍 Found {len(matching_files)} steering coefficient files\")\n",
    "    for file in matching_files:\n",
    "        print(f\"  📁 {Path(file).name}\")\n",
    "else:\n",
    "    raise FileNotFoundError(f\"No steering coefficient parquet files found in {datasets_dir}\")"
   ]
  },
  {
   "cell_type": "code",
   "execution_count": 4,
   "metadata": {},
   "outputs": [
    {
     "name": "stdout",
     "output_type": "stream",
     "text": [
      "\n",
      "==================================================\n",
      "Dataset: selected_problems_correct_steering.parquet\n",
      "==================================================\n",
      "Records: 1\n",
      "Columns: ['task_id', 'temperature', 'prompt', 'generated_code', 'test_passed', 'error_message', 'generation_time', 'cyclomatic_complexity', 'test_list']\n",
      "\n",
      "First 10 records:\n"
     ]
    },
    {
     "data": {
      "text/html": [
       "<div>\n",
       "<style scoped>\n",
       "    .dataframe tbody tr th:only-of-type {\n",
       "        vertical-align: middle;\n",
       "    }\n",
       "\n",
       "    .dataframe tbody tr th {\n",
       "        vertical-align: top;\n",
       "    }\n",
       "\n",
       "    .dataframe thead th {\n",
       "        text-align: right;\n",
       "    }\n",
       "</style>\n",
       "<table border=\"1\" class=\"dataframe\">\n",
       "  <thead>\n",
       "    <tr style=\"text-align: right;\">\n",
       "      <th></th>\n",
       "      <th>task_id</th>\n",
       "      <th>temperature</th>\n",
       "      <th>prompt</th>\n",
       "      <th>generated_code</th>\n",
       "      <th>test_passed</th>\n",
       "      <th>error_message</th>\n",
       "      <th>generation_time</th>\n",
       "      <th>cyclomatic_complexity</th>\n",
       "      <th>test_list</th>\n",
       "    </tr>\n",
       "  </thead>\n",
       "  <tbody>\n",
       "    <tr>\n",
       "      <th>0</th>\n",
       "      <td>42</td>\n",
       "      <td>0.0</td>\n",
       "      <td>Write a Python function to solve the following...</td>\n",
       "      <td>def find_Sum(arr, num):\\n    # Your code here\\...</td>\n",
       "      <td>False</td>\n",
       "      <td>None</td>\n",
       "      <td>15.222865</td>\n",
       "      <td>3</td>\n",
       "      <td>[\"assert find_Sum([1,2,3,1,1,4,5,6],8) == 3\", ...</td>\n",
       "    </tr>\n",
       "  </tbody>\n",
       "</table>\n",
       "</div>"
      ],
      "text/plain": [
       "   task_id  temperature                                             prompt  \\\n",
       "0       42          0.0  Write a Python function to solve the following...   \n",
       "\n",
       "                                      generated_code  test_passed  \\\n",
       "0  def find_Sum(arr, num):\\n    # Your code here\\...        False   \n",
       "\n",
       "  error_message  generation_time  cyclomatic_complexity  \\\n",
       "0          None        15.222865                      3   \n",
       "\n",
       "                                           test_list  \n",
       "0  [\"assert find_Sum([1,2,3,1,1,4,5,6],8) == 3\", ...  "
      ]
     },
     "metadata": {},
     "output_type": "display_data"
    },
    {
     "name": "stdout",
     "output_type": "stream",
     "text": [
      "\n",
      "==================================================\n",
      "Dataset: selected_problems_incorrect_steering.parquet\n",
      "==================================================\n",
      "Records: 1\n",
      "Columns: ['task_id', 'temperature', 'prompt', 'generated_code', 'test_passed', 'error_message', 'generation_time', 'cyclomatic_complexity', 'test_list']\n",
      "\n",
      "First 10 records:\n"
     ]
    },
    {
     "data": {
      "text/html": [
       "<div>\n",
       "<style scoped>\n",
       "    .dataframe tbody tr th:only-of-type {\n",
       "        vertical-align: middle;\n",
       "    }\n",
       "\n",
       "    .dataframe tbody tr th {\n",
       "        vertical-align: top;\n",
       "    }\n",
       "\n",
       "    .dataframe thead th {\n",
       "        text-align: right;\n",
       "    }\n",
       "</style>\n",
       "<table border=\"1\" class=\"dataframe\">\n",
       "  <thead>\n",
       "    <tr style=\"text-align: right;\">\n",
       "      <th></th>\n",
       "      <th>task_id</th>\n",
       "      <th>temperature</th>\n",
       "      <th>prompt</th>\n",
       "      <th>generated_code</th>\n",
       "      <th>test_passed</th>\n",
       "      <th>error_message</th>\n",
       "      <th>generation_time</th>\n",
       "      <th>cyclomatic_complexity</th>\n",
       "      <th>test_list</th>\n",
       "    </tr>\n",
       "  </thead>\n",
       "  <tbody>\n",
       "    <tr>\n",
       "      <th>0</th>\n",
       "      <td>53</td>\n",
       "      <td>0.0</td>\n",
       "      <td>Write a Python function to solve the following...</td>\n",
       "      <td>def check_Equality(string):\\n    if string[0] ...</td>\n",
       "      <td>True</td>\n",
       "      <td>None</td>\n",
       "      <td>6.154088</td>\n",
       "      <td>2</td>\n",
       "      <td>[\"assert check_Equality(\\\"abcda\\\") == \\\"Equal\\...</td>\n",
       "    </tr>\n",
       "  </tbody>\n",
       "</table>\n",
       "</div>"
      ],
      "text/plain": [
       "   task_id  temperature                                             prompt  \\\n",
       "0       53          0.0  Write a Python function to solve the following...   \n",
       "\n",
       "                                      generated_code  test_passed  \\\n",
       "0  def check_Equality(string):\\n    if string[0] ...         True   \n",
       "\n",
       "  error_message  generation_time  cyclomatic_complexity  \\\n",
       "0          None         6.154088                      2   \n",
       "\n",
       "                                           test_list  \n",
       "0  [\"assert check_Equality(\\\"abcda\\\") == \\\"Equal\\...  "
      ]
     },
     "metadata": {},
     "output_type": "display_data"
    }
   ],
   "source": [
    "# Load and display first 10 records for each steering coefficient dataset\n",
    "\n",
    "\n",
    "for file_path in matching_files:\n",
    "    file_name = Path(file_path).name\n",
    "    print(f\"\\n{'='*50}\")\n",
    "    print(f\"Dataset: {file_name}\")\n",
    "    print(f\"{'='*50}\")\n",
    "    \n",
    "    df = pd.read_parquet(file_path)\n",
    "    print(f\"Records: {len(df)}\")\n",
    "    print(f\"Columns: {list(df.columns)}\")\n",
    "    print(\"\\nFirst 10 records:\")\n",
    "    display(df.head(10))"
   ]
  },
  {
   "cell_type": "code",
   "execution_count": null,
   "metadata": {},
   "outputs": [],
   "source": []
  }
 ],
 "metadata": {
  "kernelspec": {
   "display_name": "pva_sae",
   "language": "python",
   "name": "python3"
  },
  "language_info": {
   "codemirror_mode": {
    "name": "ipython",
    "version": 3
   },
   "file_extension": ".py",
   "mimetype": "text/x-python",
   "name": "python",
   "nbconvert_exporter": "python",
   "pygments_lexer": "ipython3",
   "version": "3.10.16"
  }
 },
 "nbformat": 4,
 "nbformat_minor": 4
}
