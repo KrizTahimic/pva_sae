{
 "cells": [
  {
   "cell_type": "code",
   "execution_count": 1,
   "id": "dcd314dd",
   "metadata": {},
   "outputs": [
    {
     "name": "stderr",
     "output_type": "stream",
     "text": [
      "/Users/krizroycetahimic/miniconda3/envs/pva_sae/lib/python3.10/site-packages/tqdm/auto.py:21: TqdmWarning: IProgress not found. Please update jupyter and ipywidgets. See https://ipywidgets.readthedocs.io/en/stable/user_install.html\n",
      "  from .autonotebook import tqdm as notebook_tqdm\n"
     ]
    },
    {
     "name": "stdout",
     "output_type": "stream",
     "text": [
      "The highest character length in the 'code' column is: 1331\n"
     ]
    }
   ],
   "source": [
    "from datasets import load_dataset\n",
    "\n",
    "# Load the MBPP dataset\n",
    "dataset = load_dataset(\"mbpp\", \"full\") # or \"sanitized\" if you prefer\n",
    "\n",
    "# Initialize max length\n",
    "max_char_length = 0\n",
    "\n",
    "# Iterate through the 'test' split (MBPP is often a single split, or you might choose 'train')\n",
    "# and check the 'code' column.\n",
    "# Common splits are 'train', 'test', 'validation'. MBPP 'full' has 'train', 'test', 'prompt'.\n",
    "# We'll check all available splits to be safe if the exact structure isn't recalled.\n",
    "for split in dataset.keys():\n",
    "    for example in dataset[split]:\n",
    "        code_snippet = example['code']\n",
    "        if code_snippet: # Check if the code snippet is not None or empty\n",
    "            current_length = len(code_snippet)\n",
    "            if current_length > max_char_length:\n",
    "                max_char_length = current_length\n",
    "\n",
    "print(f\"The highest character length in the 'code' column is: {max_char_length}\")"
   ]
  },
  {
   "cell_type": "code",
   "execution_count": null,
   "id": "d659d1d1",
   "metadata": {},
   "outputs": [],
   "source": []
  }
 ],
 "metadata": {
  "kernelspec": {
   "display_name": "pva_sae",
   "language": "python",
   "name": "python3"
  },
  "language_info": {
   "codemirror_mode": {
    "name": "ipython",
    "version": 3
   },
   "file_extension": ".py",
   "mimetype": "text/x-python",
   "name": "python",
   "nbconvert_exporter": "python",
   "pygments_lexer": "ipython3",
   "version": "3.10.16"
  }
 },
 "nbformat": 4,
 "nbformat_minor": 5
}
