{
 "cells": [
  {
   "cell_type": "code",
   "execution_count": 22,
   "id": "dcd314dd",
   "metadata": {},
   "outputs": [
    {
     "name": "stdout",
     "output_type": "stream",
     "text": [
      "Loading: data/datasets/mbpp_dataset_20250528_123423.parquet\n",
      "Dataset shape: (3, 4)\n",
      "Columns: ['task_id', 'generated_code', 'test_passed', 'complexity_score']\n",
      "\n",
      "Complexity score statistics:\n",
      "count    3.000000\n",
      "mean     2.333333\n",
      "std      2.309401\n",
      "min      1.000000\n",
      "25%      1.000000\n",
      "50%      1.000000\n",
      "75%      3.000000\n",
      "max      5.000000\n",
      "Name: complexity_score, dtype: float64\n",
      "\n",
      "Sample data:\n",
      "   task_id  test_passed  complexity_score\n",
      "0       11         True                 5\n",
      "1       12        False                 1\n",
      "2       13        False                 1\n"
     ]
    }
   ],
   "source": [
    "import pandas as pd\n",
    "\n",
    "# Read the most recent dataset\n",
    "import glob\n",
    "import os\n",
    "\n",
    "# Find the most recent parquet file\n",
    "parquet_files = glob.glob('data/datasets/mbpp_dataset_*.parquet')\n",
    "if parquet_files:\n",
    "    latest_file = max(parquet_files, key=os.path.getmtime)\n",
    "    print(f\"Loading: {latest_file}\")\n",
    "    df = pd.read_parquet(latest_file)\n",
    "else:\n",
    "    print(\"No parquet files found\")\n",
    "    df = None\n",
    "\n",
    "if df is not None:\n",
    "    print(f\"Dataset shape: {df.shape}\")\n",
    "    print(f\"Columns: {df.columns.tolist()}\")\n",
    "    \n",
    "    # Show basic statistics\n",
    "    if 'complexity_score' in df.columns:\n",
    "        print(f\"\\nComplexity score statistics:\")\n",
    "        print(df['complexity_score'].describe())\n",
    "        \n",
    "        # Show sample data\n",
    "        print(f\"\\nSample data:\")\n",
    "        display_cols = ['task_id', 'test_passed', 'complexity_score']\n",
    "        print(df[display_cols].head())\n",
    "    else:\n",
    "        print(\"\\nComplexity score column not found!\")\n",
    "        print(\"Available columns:\", df.columns.tolist())"
   ]
  },
  {
   "cell_type": "code",
   "execution_count": 30,
   "id": "1f6bdf26",
   "metadata": {},
   "outputs": [
    {
     "name": "stdout",
     "output_type": "stream",
     "text": [
      "Loading MBPP dataset using updated DatasetManager (after module reload)...\n",
      "✅ Successfully loaded MBPP dataset\n",
      "Total records: 974\n",
      "Expected: 974 records\n",
      "✅ All 974 records loaded successfully!\n",
      "\n",
      "Dataset structure:\n",
      "Keys in each record: ['task_id', 'text', 'code', 'test_list', 'test_setup_code', 'challenge_test_list']\n",
      "First task_id: 1\n",
      "Text: Write a function to find the minimum cost path to reach (m, n) from (0, 0) for the given cost matrix...\n"
     ]
    }
   ],
   "source": [
    "# Force reload the updated DatasetManager module to clear cache\n",
    "import importlib\n",
    "import sys\n",
    "\n",
    "# Remove the module from cache if it exists\n",
    "if 'phase1_dataset_building.dataset_manager' in sys.modules:\n",
    "    del sys.modules['phase1_dataset_building.dataset_manager']\n",
    "if 'phase1_dataset_building' in sys.modules:\n",
    "    del sys.modules['phase1_dataset_building']\n",
    "\n",
    "# Now import the updated DatasetManager\n",
    "from phase1_dataset_building.dataset_manager import DatasetManager\n",
    "\n",
    "try:\n",
    "    # Initialize the dataset manager\n",
    "    dataset_manager = DatasetManager()\n",
    "    \n",
    "    # Load the full MBPP dataset\n",
    "    print(\"Loading MBPP dataset using updated DatasetManager (after module reload)...\")\n",
    "    dataset_manager.load_dataset()\n",
    "    \n",
    "    print(f\"✅ Successfully loaded MBPP dataset\")\n",
    "    print(f\"Total records: {dataset_manager.get_size()}\")\n",
    "    print(f\"Expected: 974 records\")\n",
    "    \n",
    "    if dataset_manager.get_size() == 974:\n",
    "        print(\"✅ All 974 records loaded successfully!\")\n",
    "    else:\n",
    "        print(f\"❌ Expected 974 records, but got {dataset_manager.get_size()}\")\n",
    "        print(\"The module may still be cached. Try restarting the kernel.\")\n",
    "    \n",
    "    # Show some basic info about the dataset\n",
    "    print(f\"\\nDataset structure:\")\n",
    "    if dataset_manager.is_loaded():\n",
    "        sample_record = dataset_manager.get_record(0)\n",
    "        print(f\"Keys in each record: {list(sample_record.keys())}\")\n",
    "        print(f\"First task_id: {sample_record.get('task_id', 'unknown')}\")\n",
    "        print(f\"Text: {sample_record.get('text', '')[:100]}...\")\n",
    "\n",
    "except Exception as e:\n",
    "    print(f\"❌ Error loading MBPP dataset: {e}\")\n",
    "    import traceback\n",
    "    traceback.print_exc()"
   ]
  },
  {
   "cell_type": "code",
   "execution_count": 31,
   "id": "cc7a3d92",
   "metadata": {},
   "outputs": [
    {
     "name": "stdout",
     "output_type": "stream",
     "text": [
      "Testing direct call to load_dataset('Muennighoff/mbpp', 'full')...\n",
      "Direct load result: 974 records\n",
      "DatasetManager result: 974 records\n"
     ]
    }
   ],
   "source": [
    "# Alternative: Test with direct dataset loading to verify our fix\n",
    "from datasets import load_dataset\n",
    "\n",
    "# Test the exact same call that DatasetManager should now make\n",
    "print(\"Testing direct call to load_dataset('Muennighoff/mbpp', 'full')...\")\n",
    "dataset = load_dataset(\"Muennighoff/mbpp\", \"full\")\n",
    "print(f\"Direct load result: {len(dataset['test'])} records\")\n",
    "\n",
    "# Now test DatasetManager\n",
    "from phase1_dataset_building.dataset_manager import DatasetManager\n",
    "dm = DatasetManager()\n",
    "dm.load_dataset()\n",
    "print(f\"DatasetManager result: {dm.get_size()} records\")"
   ]
  },
  {
   "cell_type": "code",
   "execution_count": null,
   "id": "463a382c",
   "metadata": {},
   "outputs": [],
   "source": []
  }
 ],
 "metadata": {
  "kernelspec": {
   "display_name": "pva_sae",
   "language": "python",
   "name": "python3"
  },
  "language_info": {
   "codemirror_mode": {
    "name": "ipython",
    "version": 3
   },
   "file_extension": ".py",
   "mimetype": "text/x-python",
   "name": "python",
   "nbconvert_exporter": "python",
   "pygments_lexer": "ipython3",
   "version": "3.10.16"
  }
 },
 "nbformat": 4,
 "nbformat_minor": 5
}
