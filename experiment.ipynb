{
 "cells": [
  {
   "cell_type": "code",
   "execution_count": 22,
   "id": "dcd314dd",
   "metadata": {},
   "outputs": [
    {
     "name": "stdout",
     "output_type": "stream",
     "text": [
      "Loading: data/datasets/mbpp_dataset_20250528_123423.parquet\n",
      "Dataset shape: (3, 4)\n",
      "Columns: ['task_id', 'generated_code', 'test_passed', 'complexity_score']\n",
      "\n",
      "Complexity score statistics:\n",
      "count    3.000000\n",
      "mean     2.333333\n",
      "std      2.309401\n",
      "min      1.000000\n",
      "25%      1.000000\n",
      "50%      1.000000\n",
      "75%      3.000000\n",
      "max      5.000000\n",
      "Name: complexity_score, dtype: float64\n",
      "\n",
      "Sample data:\n",
      "   task_id  test_passed  complexity_score\n",
      "0       11         True                 5\n",
      "1       12        False                 1\n",
      "2       13        False                 1\n"
     ]
    }
   ],
   "source": [
    "import pandas as pd\n",
    "\n",
    "# Read the most recent dataset\n",
    "import glob\n",
    "import os\n",
    "\n",
    "# Find the most recent parquet file\n",
    "parquet_files = glob.glob('data/datasets/mbpp_dataset_*.parquet')\n",
    "if parquet_files:\n",
    "    latest_file = max(parquet_files, key=os.path.getmtime)\n",
    "    print(f\"Loading: {latest_file}\")\n",
    "    df = pd.read_parquet(latest_file)\n",
    "else:\n",
    "    print(\"No parquet files found\")\n",
    "    df = None\n",
    "\n",
    "if df is not None:\n",
    "    print(f\"Dataset shape: {df.shape}\")\n",
    "    print(f\"Columns: {df.columns.tolist()}\")\n",
    "    \n",
    "    # Show basic statistics\n",
    "    if 'complexity_score' in df.columns:\n",
    "        print(f\"\\nComplexity score statistics:\")\n",
    "        print(df['complexity_score'].describe())\n",
    "        \n",
    "        # Show sample data\n",
    "        print(f\"\\nSample data:\")\n",
    "        display_cols = ['task_id', 'test_passed', 'complexity_score']\n",
    "        print(df[display_cols].head())\n",
    "    else:\n",
    "        print(\"\\nComplexity score column not found!\")\n",
    "        print(\"Available columns:\", df.columns.tolist())"
   ]
  },
  {
   "cell_type": "code",
   "execution_count": null,
   "id": "1f6bdf26",
   "metadata": {},
   "outputs": [],
   "source": []
  }
 ],
 "metadata": {
  "kernelspec": {
   "display_name": "pva_sae",
   "language": "python",
   "name": "python3"
  },
  "language_info": {
   "codemirror_mode": {
    "name": "ipython",
    "version": 3
   },
   "file_extension": ".py",
   "mimetype": "text/x-python",
   "name": "python",
   "nbconvert_exporter": "python",
   "pygments_lexer": "ipython3",
   "version": "3.10.16"
  }
 },
 "nbformat": 4,
 "nbformat_minor": 5
}
